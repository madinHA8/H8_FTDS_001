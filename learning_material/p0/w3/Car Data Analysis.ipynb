{
 "cells": [
  {
   "cell_type": "markdown",
   "metadata": {},
   "source": [
    "Importing module"
   ]
  },
  {
   "cell_type": "code",
   "execution_count": 41,
   "metadata": {},
   "outputs": [],
   "source": [
    "import pandas as pd\n",
    "import numpy as np\n",
    "import matplotlib.pyplot as plt\n",
    "import seaborn as sns\n",
    "import scipy.stats as stats\n",
    "from scipy.stats import t as t_func\n",
    "from scipy.stats import norm\n",
    "from scipy.stats import kurtosis\n",
    "\n",
    "%matplotlib inline"
   ]
  },
  {
   "cell_type": "markdown",
   "metadata": {},
   "source": [
    "## Data Preprocess"
   ]
  },
  {
   "cell_type": "markdown",
   "metadata": {},
   "source": [
    "Import data"
   ]
  },
  {
   "cell_type": "code",
   "execution_count": 42,
   "metadata": {},
   "outputs": [
    {
     "name": "stderr",
     "output_type": "stream",
     "text": [
      "b'Skipping line 408163: expected 16 fields, saw 17\\nSkipping line 417837: expected 16 fields, saw 17\\nSkipping line 421291: expected 16 fields, saw 17\\nSkipping line 424163: expected 16 fields, saw 17\\n'\n",
      "b'Skipping line 427042: expected 16 fields, saw 17\\nSkipping line 427045: expected 16 fields, saw 17\\nSkipping line 434426: expected 16 fields, saw 17\\nSkipping line 444503: expected 16 fields, saw 17\\nSkipping line 453796: expected 16 fields, saw 17\\n'\n",
      "b'Skipping line 461599: expected 16 fields, saw 17\\nSkipping line 461614: expected 16 fields, saw 17\\n'\n",
      "b'Skipping line 492486: expected 16 fields, saw 17\\nSkipping line 497010: expected 16 fields, saw 17\\nSkipping line 497013: expected 16 fields, saw 17\\nSkipping line 499085: expected 16 fields, saw 17\\nSkipping line 501457: expected 16 fields, saw 17\\nSkipping line 505301: expected 16 fields, saw 17\\nSkipping line 505308: expected 16 fields, saw 17\\nSkipping line 520463: expected 16 fields, saw 17\\n'\n",
      "b'Skipping line 528998: expected 16 fields, saw 17\\nSkipping line 529011: expected 16 fields, saw 17\\nSkipping line 529015: expected 16 fields, saw 17\\nSkipping line 529624: expected 16 fields, saw 17\\nSkipping line 548786: expected 16 fields, saw 17\\nSkipping line 551224: expected 16 fields, saw 17\\nSkipping line 554712: expected 16 fields, saw 17\\n'\n"
     ]
    }
   ],
   "source": [
    "df_raw = pd.read_csv('data\\car_prices.csv', error_bad_lines=False)"
   ]
  },
  {
   "cell_type": "code",
   "execution_count": 8,
   "metadata": {},
   "outputs": [
    {
     "name": "stdout",
     "output_type": "stream",
     "text": [
      "(558811, 16)\n"
     ]
    },
    {
     "data": {
      "text/html": [
       "<div>\n",
       "<style scoped>\n",
       "    .dataframe tbody tr th:only-of-type {\n",
       "        vertical-align: middle;\n",
       "    }\n",
       "\n",
       "    .dataframe tbody tr th {\n",
       "        vertical-align: top;\n",
       "    }\n",
       "\n",
       "    .dataframe thead th {\n",
       "        text-align: right;\n",
       "    }\n",
       "</style>\n",
       "<table border=\"1\" class=\"dataframe\">\n",
       "  <thead>\n",
       "    <tr style=\"text-align: right;\">\n",
       "      <th></th>\n",
       "      <th>year</th>\n",
       "      <th>make</th>\n",
       "      <th>model</th>\n",
       "      <th>trim</th>\n",
       "      <th>body</th>\n",
       "      <th>transmission</th>\n",
       "      <th>vin</th>\n",
       "      <th>state</th>\n",
       "      <th>condition</th>\n",
       "      <th>odometer</th>\n",
       "      <th>color</th>\n",
       "      <th>interior</th>\n",
       "      <th>seller</th>\n",
       "      <th>mmr</th>\n",
       "      <th>sellingprice</th>\n",
       "      <th>saledate</th>\n",
       "    </tr>\n",
       "  </thead>\n",
       "  <tbody>\n",
       "    <tr>\n",
       "      <th>0</th>\n",
       "      <td>2015</td>\n",
       "      <td>Kia</td>\n",
       "      <td>Sorento</td>\n",
       "      <td>LX</td>\n",
       "      <td>SUV</td>\n",
       "      <td>automatic</td>\n",
       "      <td>5xyktca69fg566472</td>\n",
       "      <td>ca</td>\n",
       "      <td>5.0</td>\n",
       "      <td>16639.0</td>\n",
       "      <td>white</td>\n",
       "      <td>black</td>\n",
       "      <td>kia motors america, inc</td>\n",
       "      <td>20500</td>\n",
       "      <td>21500</td>\n",
       "      <td>Tue Dec 16 2014 12:30:00 GMT-0800 (PST)</td>\n",
       "    </tr>\n",
       "    <tr>\n",
       "      <th>1</th>\n",
       "      <td>2015</td>\n",
       "      <td>Kia</td>\n",
       "      <td>Sorento</td>\n",
       "      <td>LX</td>\n",
       "      <td>SUV</td>\n",
       "      <td>automatic</td>\n",
       "      <td>5xyktca69fg561319</td>\n",
       "      <td>ca</td>\n",
       "      <td>5.0</td>\n",
       "      <td>9393.0</td>\n",
       "      <td>white</td>\n",
       "      <td>beige</td>\n",
       "      <td>kia motors america, inc</td>\n",
       "      <td>20800</td>\n",
       "      <td>21500</td>\n",
       "      <td>Tue Dec 16 2014 12:30:00 GMT-0800 (PST)</td>\n",
       "    </tr>\n",
       "    <tr>\n",
       "      <th>2</th>\n",
       "      <td>2014</td>\n",
       "      <td>BMW</td>\n",
       "      <td>3 Series</td>\n",
       "      <td>328i SULEV</td>\n",
       "      <td>Sedan</td>\n",
       "      <td>automatic</td>\n",
       "      <td>wba3c1c51ek116351</td>\n",
       "      <td>ca</td>\n",
       "      <td>4.5</td>\n",
       "      <td>1331.0</td>\n",
       "      <td>gray</td>\n",
       "      <td>black</td>\n",
       "      <td>financial services remarketing (lease)</td>\n",
       "      <td>31900</td>\n",
       "      <td>30000</td>\n",
       "      <td>Thu Jan 15 2015 04:30:00 GMT-0800 (PST)</td>\n",
       "    </tr>\n",
       "    <tr>\n",
       "      <th>3</th>\n",
       "      <td>2015</td>\n",
       "      <td>Volvo</td>\n",
       "      <td>S60</td>\n",
       "      <td>T5</td>\n",
       "      <td>Sedan</td>\n",
       "      <td>automatic</td>\n",
       "      <td>yv1612tb4f1310987</td>\n",
       "      <td>ca</td>\n",
       "      <td>4.1</td>\n",
       "      <td>14282.0</td>\n",
       "      <td>white</td>\n",
       "      <td>black</td>\n",
       "      <td>volvo na rep/world omni</td>\n",
       "      <td>27500</td>\n",
       "      <td>27750</td>\n",
       "      <td>Thu Jan 29 2015 04:30:00 GMT-0800 (PST)</td>\n",
       "    </tr>\n",
       "    <tr>\n",
       "      <th>4</th>\n",
       "      <td>2014</td>\n",
       "      <td>BMW</td>\n",
       "      <td>6 Series Gran Coupe</td>\n",
       "      <td>650i</td>\n",
       "      <td>Sedan</td>\n",
       "      <td>automatic</td>\n",
       "      <td>wba6b2c57ed129731</td>\n",
       "      <td>ca</td>\n",
       "      <td>4.3</td>\n",
       "      <td>2641.0</td>\n",
       "      <td>gray</td>\n",
       "      <td>black</td>\n",
       "      <td>financial services remarketing (lease)</td>\n",
       "      <td>66000</td>\n",
       "      <td>67000</td>\n",
       "      <td>Thu Dec 18 2014 12:30:00 GMT-0800 (PST)</td>\n",
       "    </tr>\n",
       "  </tbody>\n",
       "</table>\n",
       "</div>"
      ],
      "text/plain": [
       "   year   make                model        trim   body transmission  \\\n",
       "0  2015    Kia              Sorento          LX    SUV    automatic   \n",
       "1  2015    Kia              Sorento          LX    SUV    automatic   \n",
       "2  2014    BMW             3 Series  328i SULEV  Sedan    automatic   \n",
       "3  2015  Volvo                  S60          T5  Sedan    automatic   \n",
       "4  2014    BMW  6 Series Gran Coupe        650i  Sedan    automatic   \n",
       "\n",
       "                 vin state  condition  odometer  color interior  \\\n",
       "0  5xyktca69fg566472    ca        5.0   16639.0  white    black   \n",
       "1  5xyktca69fg561319    ca        5.0    9393.0  white    beige   \n",
       "2  wba3c1c51ek116351    ca        4.5    1331.0   gray    black   \n",
       "3  yv1612tb4f1310987    ca        4.1   14282.0  white    black   \n",
       "4  wba6b2c57ed129731    ca        4.3    2641.0   gray    black   \n",
       "\n",
       "                                   seller    mmr  sellingprice  \\\n",
       "0                 kia motors america, inc  20500         21500   \n",
       "1                 kia motors america, inc  20800         21500   \n",
       "2  financial services remarketing (lease)  31900         30000   \n",
       "3                 volvo na rep/world omni  27500         27750   \n",
       "4  financial services remarketing (lease)  66000         67000   \n",
       "\n",
       "                                  saledate  \n",
       "0  Tue Dec 16 2014 12:30:00 GMT-0800 (PST)  \n",
       "1  Tue Dec 16 2014 12:30:00 GMT-0800 (PST)  \n",
       "2  Thu Jan 15 2015 04:30:00 GMT-0800 (PST)  \n",
       "3  Thu Jan 29 2015 04:30:00 GMT-0800 (PST)  \n",
       "4  Thu Dec 18 2014 12:30:00 GMT-0800 (PST)  "
      ]
     },
     "execution_count": 8,
     "metadata": {},
     "output_type": "execute_result"
    }
   ],
   "source": [
    "print(df_raw.shape)\n",
    "df_raw.head(5)"
   ]
  },
  {
   "cell_type": "markdown",
   "metadata": {},
   "source": [
    "The data is about selling price of used cars with attribute such as model, maker, state, condition, last odometer values, etc."
   ]
  },
  {
   "cell_type": "code",
   "execution_count": 9,
   "metadata": {},
   "outputs": [
    {
     "data": {
      "text/plain": [
       "<AxesSubplot:ylabel='Frequency'>"
      ]
     },
     "execution_count": 9,
     "metadata": {},
     "output_type": "execute_result"
    },
    {
     "data": {
      "image/png": "[encoded data removed]",
      "text/plain": [
       "<Figure size 432x288 with 1 Axes>"
      ]
     },
     "metadata": {
      "needs_background": "light"
     },
     "output_type": "display_data"
    }
   ],
   "source": [
    "df_raw['sellingprice'].plot.hist(bins=100,density=True)"
   ]
  },
  {
   "cell_type": "code",
   "execution_count": 44,
   "metadata": {},
   "outputs": [],
   "source": [
    "#Capitalize the text of 'body' columns\n",
    "df_raw['body'] = df_raw['body'].str.upper()"
   ]
  },
  {
   "cell_type": "markdown",
   "metadata": {},
   "source": [
    "## Data Summaries"
   ]
  },
  {
   "cell_type": "markdown",
   "metadata": {},
   "source": [
    "### 5 Number Summaries"
   ]
  },
  {
   "cell_type": "code",
   "execution_count": 45,
   "metadata": {},
   "outputs": [
    {
     "data": {
      "text/plain": [
       "year              int64\n",
       "make             object\n",
       "model            object\n",
       "trim             object\n",
       "body             object\n",
       "transmission     object\n",
       "vin              object\n",
       "state            object\n",
       "condition       float64\n",
       "odometer        float64\n",
       "color            object\n",
       "interior         object\n",
       "seller           object\n",
       "mmr               int64\n",
       "sellingprice      int64\n",
       "saledate         object\n",
       "dtype: object"
      ]
     },
     "execution_count": 45,
     "metadata": {},
     "output_type": "execute_result"
    }
   ],
   "source": [
    "df_raw.dtypes"
   ]
  },
  {
   "cell_type": "code",
   "execution_count": 18,
   "metadata": {},
   "outputs": [
    {
     "data": {
      "text/html": [
       "<div>\n",
       "<style scoped>\n",
       "    .dataframe tbody tr th:only-of-type {\n",
       "        vertical-align: middle;\n",
       "    }\n",
       "\n",
       "    .dataframe tbody tr th {\n",
       "        vertical-align: top;\n",
       "    }\n",
       "\n",
       "    .dataframe thead th {\n",
       "        text-align: right;\n",
       "    }\n",
       "</style>\n",
       "<table border=\"1\" class=\"dataframe\">\n",
       "  <thead>\n",
       "    <tr style=\"text-align: right;\">\n",
       "      <th></th>\n",
       "      <th>year</th>\n",
       "      <th>condition</th>\n",
       "      <th>odometer</th>\n",
       "      <th>mmr</th>\n",
       "      <th>sellingprice</th>\n",
       "    </tr>\n",
       "  </thead>\n",
       "  <tbody>\n",
       "    <tr>\n",
       "      <th>count</th>\n",
       "      <td>558811.000000</td>\n",
       "      <td>547017.000000</td>\n",
       "      <td>558717.000000</td>\n",
       "      <td>558811.000000</td>\n",
       "      <td>558811.000000</td>\n",
       "    </tr>\n",
       "    <tr>\n",
       "      <th>mean</th>\n",
       "      <td>2010.038696</td>\n",
       "      <td>3.424512</td>\n",
       "      <td>68323.195797</td>\n",
       "      <td>13769.324646</td>\n",
       "      <td>13611.262461</td>\n",
       "    </tr>\n",
       "    <tr>\n",
       "      <th>std</th>\n",
       "      <td>3.966812</td>\n",
       "      <td>0.949439</td>\n",
       "      <td>53397.752933</td>\n",
       "      <td>9679.874607</td>\n",
       "      <td>9749.656919</td>\n",
       "    </tr>\n",
       "    <tr>\n",
       "      <th>min</th>\n",
       "      <td>1982.000000</td>\n",
       "      <td>1.000000</td>\n",
       "      <td>1.000000</td>\n",
       "      <td>25.000000</td>\n",
       "      <td>1.000000</td>\n",
       "    </tr>\n",
       "    <tr>\n",
       "      <th>25%</th>\n",
       "      <td>2007.000000</td>\n",
       "      <td>2.700000</td>\n",
       "      <td>28374.000000</td>\n",
       "      <td>7100.000000</td>\n",
       "      <td>6900.000000</td>\n",
       "    </tr>\n",
       "    <tr>\n",
       "      <th>50%</th>\n",
       "      <td>2012.000000</td>\n",
       "      <td>3.600000</td>\n",
       "      <td>52256.000000</td>\n",
       "      <td>12250.000000</td>\n",
       "      <td>12100.000000</td>\n",
       "    </tr>\n",
       "    <tr>\n",
       "      <th>75%</th>\n",
       "      <td>2013.000000</td>\n",
       "      <td>4.200000</td>\n",
       "      <td>99112.000000</td>\n",
       "      <td>18300.000000</td>\n",
       "      <td>18200.000000</td>\n",
       "    </tr>\n",
       "    <tr>\n",
       "      <th>max</th>\n",
       "      <td>2015.000000</td>\n",
       "      <td>5.000000</td>\n",
       "      <td>999999.000000</td>\n",
       "      <td>182000.000000</td>\n",
       "      <td>230000.000000</td>\n",
       "    </tr>\n",
       "  </tbody>\n",
       "</table>\n",
       "</div>"
      ],
      "text/plain": [
       "                year      condition       odometer            mmr  \\\n",
       "count  558811.000000  547017.000000  558717.000000  558811.000000   \n",
       "mean     2010.038696       3.424512   68323.195797   13769.324646   \n",
       "std         3.966812       0.949439   53397.752933    9679.874607   \n",
       "min      1982.000000       1.000000       1.000000      25.000000   \n",
       "25%      2007.000000       2.700000   28374.000000    7100.000000   \n",
       "50%      2012.000000       3.600000   52256.000000   12250.000000   \n",
       "75%      2013.000000       4.200000   99112.000000   18300.000000   \n",
       "max      2015.000000       5.000000  999999.000000  182000.000000   \n",
       "\n",
       "        sellingprice  \n",
       "count  558811.000000  \n",
       "mean    13611.262461  \n",
       "std      9749.656919  \n",
       "min         1.000000  \n",
       "25%      6900.000000  \n",
       "50%     12100.000000  \n",
       "75%     18200.000000  \n",
       "max    230000.000000  "
      ]
     },
     "execution_count": 18,
     "metadata": {},
     "output_type": "execute_result"
    }
   ],
   "source": [
    "df_raw.describe()"
   ]
  },
  {
   "cell_type": "code",
   "execution_count": 46,
   "metadata": {},
   "outputs": [
    {
     "data": {
      "text/html": [
       "<div>\n",
       "<style scoped>\n",
       "    .dataframe tbody tr th:only-of-type {\n",
       "        vertical-align: middle;\n",
       "    }\n",
       "\n",
       "    .dataframe tbody tr th {\n",
       "        vertical-align: top;\n",
       "    }\n",
       "\n",
       "    .dataframe thead th {\n",
       "        text-align: right;\n",
       "    }\n",
       "</style>\n",
       "<table border=\"1\" class=\"dataframe\">\n",
       "  <thead>\n",
       "    <tr style=\"text-align: right;\">\n",
       "      <th></th>\n",
       "      <th>year</th>\n",
       "      <th>make</th>\n",
       "      <th>model</th>\n",
       "      <th>trim</th>\n",
       "      <th>body</th>\n",
       "      <th>transmission</th>\n",
       "      <th>vin</th>\n",
       "      <th>state</th>\n",
       "      <th>condition</th>\n",
       "      <th>odometer</th>\n",
       "      <th>color</th>\n",
       "      <th>interior</th>\n",
       "      <th>seller</th>\n",
       "      <th>mmr</th>\n",
       "      <th>sellingprice</th>\n",
       "      <th>saledate</th>\n",
       "    </tr>\n",
       "  </thead>\n",
       "  <tbody>\n",
       "    <tr>\n",
       "      <th>0</th>\n",
       "      <td>2012</td>\n",
       "      <td>Ford</td>\n",
       "      <td>Altima</td>\n",
       "      <td>Base</td>\n",
       "      <td>SEDAN</td>\n",
       "      <td>automatic</td>\n",
       "      <td>wbanv13588cz57827</td>\n",
       "      <td>fl</td>\n",
       "      <td>1.9</td>\n",
       "      <td>1.0</td>\n",
       "      <td>black</td>\n",
       "      <td>black</td>\n",
       "      <td>nissan-infiniti lt</td>\n",
       "      <td>12500</td>\n",
       "      <td>11000</td>\n",
       "      <td>Tue Feb 10 2015 01:30:00 GMT-0800 (PST)</td>\n",
       "    </tr>\n",
       "  </tbody>\n",
       "</table>\n",
       "</div>"
      ],
      "text/plain": [
       "   year  make   model  trim   body transmission                vin state  \\\n",
       "0  2012  Ford  Altima  Base  SEDAN    automatic  wbanv13588cz57827    fl   \n",
       "\n",
       "   condition  odometer  color interior              seller    mmr  \\\n",
       "0        1.9       1.0  black    black  nissan-infiniti lt  12500   \n",
       "\n",
       "   sellingprice                                 saledate  \n",
       "0         11000  Tue Feb 10 2015 01:30:00 GMT-0800 (PST)  "
      ]
     },
     "execution_count": 46,
     "metadata": {},
     "output_type": "execute_result"
    }
   ],
   "source": [
    "df_raw.mode()"
   ]
  },
  {
   "cell_type": "code",
   "execution_count": 48,
   "metadata": {},
   "outputs": [
    {
     "data": {
      "text/html": [
       "<div>\n",
       "<style scoped>\n",
       "    .dataframe tbody tr th:only-of-type {\n",
       "        vertical-align: middle;\n",
       "    }\n",
       "\n",
       "    .dataframe tbody tr th {\n",
       "        vertical-align: top;\n",
       "    }\n",
       "\n",
       "    .dataframe thead th {\n",
       "        text-align: right;\n",
       "    }\n",
       "</style>\n",
       "<table border=\"1\" class=\"dataframe\">\n",
       "  <thead>\n",
       "    <tr style=\"text-align: right;\">\n",
       "      <th></th>\n",
       "      <th>year</th>\n",
       "      <th>condition</th>\n",
       "      <th>odometer</th>\n",
       "      <th>mmr</th>\n",
       "      <th>sellingprice</th>\n",
       "    </tr>\n",
       "  </thead>\n",
       "  <tbody>\n",
       "    <tr>\n",
       "      <th>0</th>\n",
       "      <td>2012</td>\n",
       "      <td>1.9</td>\n",
       "      <td>1.0</td>\n",
       "      <td>12500</td>\n",
       "      <td>11000</td>\n",
       "    </tr>\n",
       "  </tbody>\n",
       "</table>\n",
       "</div>"
      ],
      "text/plain": [
       "   year  condition  odometer    mmr  sellingprice\n",
       "0  2012        1.9       1.0  12500         11000"
      ]
     },
     "execution_count": 48,
     "metadata": {},
     "output_type": "execute_result"
    }
   ],
   "source": [
    "df_raw[df_raw.describe().columns].mode()"
   ]
  },
  {
   "cell_type": "markdown",
   "metadata": {},
   "source": [
    "From the description of 5 num. summary, we can see some of the data are not normally distributed. Because, the mean, 2nd quartile, and mode does not located on the same point."
   ]
  },
  {
   "cell_type": "code",
   "execution_count": 49,
   "metadata": {},
   "outputs": [
    {
     "data": {
      "image/png": "[encoded data removed]",
      "text/plain": [
       "<Figure size 432x288 with 1 Axes>"
      ]
     },
     "metadata": {
      "needs_background": "light"
     },
     "output_type": "display_data"
    }
   ],
   "source": [
    "boxplot = df_raw.boxplot('condition',vert=False)"
   ]
  },
  {
   "cell_type": "code",
   "execution_count": 50,
   "metadata": {},
   "outputs": [
    {
     "data": {
      "text/plain": [
       "<AxesSubplot:xlabel='condition', ylabel='Count'>"
      ]
     },
     "execution_count": 50,
     "metadata": {},
     "output_type": "execute_result"
    },
    {
     "data": {
      "image/png": "[encoded data removed]",
      "text/plain": [
       "<Figure size 432x288 with 1 Axes>"
      ]
     },
     "metadata": {
      "needs_background": "light"
     },
     "output_type": "display_data"
    }
   ],
   "source": [
    "sns.histplot(df_raw['condition'],kde=True)"
   ]
  },
  {
   "cell_type": "markdown",
   "metadata": {},
   "source": [
    "From the box plot, we can see there is not much outlier on the condition columns."
   ]
  },
  {
   "cell_type": "code",
   "execution_count": 51,
   "metadata": {},
   "outputs": [
    {
     "data": {
      "image/png": "[encoded data removed]",
      "text/plain": [
       "<Figure size 432x288 with 1 Axes>"
      ]
     },
     "metadata": {
      "needs_background": "light"
     },
     "output_type": "display_data"
    }
   ],
   "source": [
    "boxplot = df_raw.boxplot('sellingprice',vert=False)"
   ]
  },
  {
   "cell_type": "markdown",
   "metadata": {},
   "source": [
    "We found outlier with prices above 200000"
   ]
  },
  {
   "cell_type": "code",
   "execution_count": 52,
   "metadata": {
    "scrolled": true
   },
   "outputs": [
    {
     "data": {
      "text/plain": [
       "<AxesSubplot:xlabel='sellingprice', ylabel='Count'>"
      ]
     },
     "execution_count": 52,
     "metadata": {},
     "output_type": "execute_result"
    },
    {
     "data": {
      "image/png": "[encoded data removed]",
      "text/plain": [
       "<Figure size 432x288 with 1 Axes>"
      ]
     },
     "metadata": {
      "needs_background": "light"
     },
     "output_type": "display_data"
    }
   ],
   "source": [
    "sns.histplot(df_raw['sellingprice'],kde=True)"
   ]
  },
  {
   "cell_type": "code",
   "execution_count": 54,
   "metadata": {},
   "outputs": [
    {
     "data": {
      "text/plain": [
       "<seaborn.axisgrid.FacetGrid at 0x173837865b0>"
      ]
     },
     "execution_count": 54,
     "metadata": {},
     "output_type": "execute_result"
    },
    {
     "data": {
      "image/png": "[encoded data removed]",
      "text/plain": [
       "<Figure size 360x360 with 1 Axes>"
      ]
     },
     "metadata": {
      "needs_background": "light"
     },
     "output_type": "display_data"
    }
   ],
   "source": [
    "sns.displot(df_raw['sellingprice'], kind=\"ecdf\")"
   ]
  },
  {
   "cell_type": "markdown",
   "metadata": {},
   "source": [
    "From the box plot, kde plot, and CDF plot, the distribution of selling price is not normal.\n",
    "\n",
    "Compared to condition, selling price data tend to be more skewed."
   ]
  },
  {
   "cell_type": "markdown",
   "metadata": {},
   "source": [
    "### Correlation"
   ]
  },
  {
   "cell_type": "code",
   "execution_count": 12,
   "metadata": {},
   "outputs": [
    {
     "data": {
      "text/html": [
       "<div>\n",
       "<style scoped>\n",
       "    .dataframe tbody tr th:only-of-type {\n",
       "        vertical-align: middle;\n",
       "    }\n",
       "\n",
       "    .dataframe tbody tr th {\n",
       "        vertical-align: top;\n",
       "    }\n",
       "\n",
       "    .dataframe thead th {\n",
       "        text-align: right;\n",
       "    }\n",
       "</style>\n",
       "<table border=\"1\" class=\"dataframe\">\n",
       "  <thead>\n",
       "    <tr style=\"text-align: right;\">\n",
       "      <th></th>\n",
       "      <th>year</th>\n",
       "      <th>condition</th>\n",
       "      <th>odometer</th>\n",
       "      <th>mmr</th>\n",
       "      <th>sellingprice</th>\n",
       "    </tr>\n",
       "  </thead>\n",
       "  <tbody>\n",
       "    <tr>\n",
       "      <th>year</th>\n",
       "      <td>1.000000</td>\n",
       "      <td>0.551282</td>\n",
       "      <td>-0.772720</td>\n",
       "      <td>0.596623</td>\n",
       "      <td>0.586488</td>\n",
       "    </tr>\n",
       "    <tr>\n",
       "      <th>condition</th>\n",
       "      <td>0.551282</td>\n",
       "      <td>1.000000</td>\n",
       "      <td>-0.538874</td>\n",
       "      <td>0.485050</td>\n",
       "      <td>0.538788</td>\n",
       "    </tr>\n",
       "    <tr>\n",
       "      <th>odometer</th>\n",
       "      <td>-0.772720</td>\n",
       "      <td>-0.538874</td>\n",
       "      <td>1.000000</td>\n",
       "      <td>-0.588107</td>\n",
       "      <td>-0.582405</td>\n",
       "    </tr>\n",
       "    <tr>\n",
       "      <th>mmr</th>\n",
       "      <td>0.596623</td>\n",
       "      <td>0.485050</td>\n",
       "      <td>-0.588107</td>\n",
       "      <td>1.000000</td>\n",
       "      <td>0.983634</td>\n",
       "    </tr>\n",
       "    <tr>\n",
       "      <th>sellingprice</th>\n",
       "      <td>0.586488</td>\n",
       "      <td>0.538788</td>\n",
       "      <td>-0.582405</td>\n",
       "      <td>0.983634</td>\n",
       "      <td>1.000000</td>\n",
       "    </tr>\n",
       "  </tbody>\n",
       "</table>\n",
       "</div>"
      ],
      "text/plain": [
       "                  year  condition  odometer       mmr  sellingprice\n",
       "year          1.000000   0.551282 -0.772720  0.596623      0.586488\n",
       "condition     0.551282   1.000000 -0.538874  0.485050      0.538788\n",
       "odometer     -0.772720  -0.538874  1.000000 -0.588107     -0.582405\n",
       "mmr           0.596623   0.485050 -0.588107  1.000000      0.983634\n",
       "sellingprice  0.586488   0.538788 -0.582405  0.983634      1.000000"
      ]
     },
     "execution_count": 12,
     "metadata": {},
     "output_type": "execute_result"
    }
   ],
   "source": [
    "df_raw.corr()"
   ]
  },
  {
   "cell_type": "code",
   "execution_count": 14,
   "metadata": {
    "scrolled": true
   },
   "outputs": [
    {
     "data": {
      "text/plain": [
       "<matplotlib.collections.PathCollection at 0x1738c6dcb80>"
      ]
     },
     "execution_count": 14,
     "metadata": {},
     "output_type": "execute_result"
    },
    {
     "data": {
      "image/png": "[encoded data removed]",
      "text/plain": [
       "<Figure size 432x288 with 1 Axes>"
      ]
     },
     "metadata": {
      "needs_background": "light"
     },
     "output_type": "display_data"
    }
   ],
   "source": [
    "plt.scatter(df_raw['odometer'],df_raw['sellingprice'])"
   ]
  },
  {
   "cell_type": "code",
   "execution_count": 55,
   "metadata": {},
   "outputs": [
    {
     "data": {
      "text/plain": [
       "<matplotlib.collections.PathCollection at 0x173aae0f7c0>"
      ]
     },
     "execution_count": 55,
     "metadata": {},
     "output_type": "execute_result"
    },
    {
     "data": {
      "image/png": "[encoded data removed]",
      "text/plain": [
       "<Figure size 432x288 with 1 Axes>"
      ]
     },
     "metadata": {
      "needs_background": "light"
     },
     "output_type": "display_data"
    }
   ],
   "source": [
    "plt.scatter(df_raw['odometer'],df_raw['condition'])"
   ]
  },
  {
   "cell_type": "code",
   "execution_count": 56,
   "metadata": {},
   "outputs": [
    {
     "data": {
      "text/plain": [
       "<matplotlib.collections.PathCollection at 0x173970f94f0>"
      ]
     },
     "execution_count": 56,
     "metadata": {},
     "output_type": "execute_result"
    },
    {
     "data": {
      "image/png": "[encoded data removed]",
      "text/plain": [
       "<Figure size 432x288 with 1 Axes>"
      ]
     },
     "metadata": {
      "needs_background": "light"
     },
     "output_type": "display_data"
    }
   ],
   "source": [
    "plt.scatter(df_raw['condition'],df_raw['odometer'])"
   ]
  },
  {
   "cell_type": "markdown",
   "metadata": {},
   "source": [
    "From the correlation matrix, we can conclude:\n",
    "\n",
    "1. Selling price have positive correlation with condition, year, mmr.\n",
    "2. Selling price have negative correlation with odometer, indicating the car that has travelled more have lower selling price."
   ]
  },
  {
   "cell_type": "markdown",
   "metadata": {},
   "source": [
    "### Remove Outliers"
   ]
  },
  {
   "cell_type": "markdown",
   "metadata": {},
   "source": [
    "By Price"
   ]
  },
  {
   "cell_type": "code",
   "execution_count": 61,
   "metadata": {},
   "outputs": [],
   "source": [
    "sell_price=df_raw['sellingprice']"
   ]
  },
  {
   "cell_type": "code",
   "execution_count": 62,
   "metadata": {},
   "outputs": [
    {
     "data": {
      "text/plain": [
       "35150.0"
      ]
     },
     "execution_count": 62,
     "metadata": {},
     "output_type": "execute_result"
    }
   ],
   "source": [
    "sell_price.quantile(0.75)+1.5*(sell_price.quantile(0.75)-sell_price.quantile(0.25))"
   ]
  },
  {
   "cell_type": "markdown",
   "metadata": {},
   "source": [
    "From Tukey's Upper bound, the number of removed outlier by selling price is too high.\n",
    "\n",
    "\n",
    "Thus, we use another alternative amount to remove only the alineated outliers that shows gap between the outlier and other data point."
   ]
  },
  {
   "cell_type": "code",
   "execution_count": 70,
   "metadata": {},
   "outputs": [],
   "source": [
    "#After 175K there is a big gap before the outliers\n",
    "df_filt = df_raw[df_raw['sellingprice']<=175000]"
   ]
  },
  {
   "cell_type": "code",
   "execution_count": 71,
   "metadata": {},
   "outputs": [
    {
     "data": {
      "text/plain": [
       "<AxesSubplot:ylabel='Frequency'>"
      ]
     },
     "execution_count": 71,
     "metadata": {},
     "output_type": "execute_result"
    },
    {
     "data": {
      "image/png": "[encoded data removed]",
      "text/plain": [
       "<Figure size 432x288 with 1 Axes>"
      ]
     },
     "metadata": {
      "needs_background": "light"
     },
     "output_type": "display_data"
    }
   ],
   "source": [
    "df_filt['sellingprice'].plot.hist(bins=100,density=True)"
   ]
  },
  {
   "cell_type": "code",
   "execution_count": 72,
   "metadata": {},
   "outputs": [
    {
     "data": {
      "text/plain": [
       "<AxesSubplot:>"
      ]
     },
     "execution_count": 72,
     "metadata": {},
     "output_type": "execute_result"
    },
    {
     "data": {
      "image/png": "[encoded data removed]",
      "text/plain": [
       "<Figure size 432x288 with 1 Axes>"
      ]
     },
     "metadata": {
      "needs_background": "light"
     },
     "output_type": "display_data"
    }
   ],
   "source": [
    "df_filt.boxplot('sellingprice',vert=False)"
   ]
  },
  {
   "cell_type": "markdown",
   "metadata": {},
   "source": [
    "By Body"
   ]
  },
  {
   "cell_type": "code",
   "execution_count": 73,
   "metadata": {},
   "outputs": [
    {
     "data": {
      "text/html": [
       "<div>\n",
       "<style scoped>\n",
       "    .dataframe tbody tr th:only-of-type {\n",
       "        vertical-align: middle;\n",
       "    }\n",
       "\n",
       "    .dataframe tbody tr th {\n",
       "        vertical-align: top;\n",
       "    }\n",
       "\n",
       "    .dataframe thead th {\n",
       "        text-align: right;\n",
       "    }\n",
       "</style>\n",
       "<table border=\"1\" class=\"dataframe\">\n",
       "  <thead>\n",
       "    <tr style=\"text-align: right;\">\n",
       "      <th></th>\n",
       "      <th>year</th>\n",
       "      <th>make</th>\n",
       "      <th>model</th>\n",
       "      <th>trim</th>\n",
       "      <th>transmission</th>\n",
       "      <th>vin</th>\n",
       "      <th>state</th>\n",
       "      <th>condition</th>\n",
       "      <th>odometer</th>\n",
       "      <th>color</th>\n",
       "      <th>interior</th>\n",
       "      <th>seller</th>\n",
       "      <th>mmr</th>\n",
       "      <th>sellingprice</th>\n",
       "      <th>saledate</th>\n",
       "    </tr>\n",
       "    <tr>\n",
       "      <th>body</th>\n",
       "      <th></th>\n",
       "      <th></th>\n",
       "      <th></th>\n",
       "      <th></th>\n",
       "      <th></th>\n",
       "      <th></th>\n",
       "      <th></th>\n",
       "      <th></th>\n",
       "      <th></th>\n",
       "      <th></th>\n",
       "      <th></th>\n",
       "      <th></th>\n",
       "      <th></th>\n",
       "      <th></th>\n",
       "      <th></th>\n",
       "    </tr>\n",
       "  </thead>\n",
       "  <tbody>\n",
       "    <tr>\n",
       "      <th>ACCESS CAB</th>\n",
       "      <td>294</td>\n",
       "      <td>294</td>\n",
       "      <td>294</td>\n",
       "      <td>294</td>\n",
       "      <td>270</td>\n",
       "      <td>294</td>\n",
       "      <td>294</td>\n",
       "      <td>289</td>\n",
       "      <td>294</td>\n",
       "      <td>293</td>\n",
       "      <td>293</td>\n",
       "      <td>294</td>\n",
       "      <td>294</td>\n",
       "      <td>294</td>\n",
       "      <td>294</td>\n",
       "    </tr>\n",
       "    <tr>\n",
       "      <th>BEETLE CONVERTIBLE</th>\n",
       "      <td>59</td>\n",
       "      <td>59</td>\n",
       "      <td>59</td>\n",
       "      <td>59</td>\n",
       "      <td>53</td>\n",
       "      <td>59</td>\n",
       "      <td>59</td>\n",
       "      <td>59</td>\n",
       "      <td>59</td>\n",
       "      <td>58</td>\n",
       "      <td>58</td>\n",
       "      <td>59</td>\n",
       "      <td>59</td>\n",
       "      <td>59</td>\n",
       "      <td>59</td>\n",
       "    </tr>\n",
       "    <tr>\n",
       "      <th>CAB PLUS</th>\n",
       "      <td>4</td>\n",
       "      <td>4</td>\n",
       "      <td>4</td>\n",
       "      <td>4</td>\n",
       "      <td>4</td>\n",
       "      <td>4</td>\n",
       "      <td>4</td>\n",
       "      <td>3</td>\n",
       "      <td>4</td>\n",
       "      <td>4</td>\n",
       "      <td>4</td>\n",
       "      <td>4</td>\n",
       "      <td>4</td>\n",
       "      <td>4</td>\n",
       "      <td>4</td>\n",
       "    </tr>\n",
       "    <tr>\n",
       "      <th>CAB PLUS 4</th>\n",
       "      <td>6</td>\n",
       "      <td>6</td>\n",
       "      <td>6</td>\n",
       "      <td>6</td>\n",
       "      <td>5</td>\n",
       "      <td>6</td>\n",
       "      <td>6</td>\n",
       "      <td>6</td>\n",
       "      <td>6</td>\n",
       "      <td>6</td>\n",
       "      <td>6</td>\n",
       "      <td>6</td>\n",
       "      <td>6</td>\n",
       "      <td>6</td>\n",
       "      <td>6</td>\n",
       "    </tr>\n",
       "    <tr>\n",
       "      <th>CLUB CAB</th>\n",
       "      <td>178</td>\n",
       "      <td>178</td>\n",
       "      <td>178</td>\n",
       "      <td>178</td>\n",
       "      <td>162</td>\n",
       "      <td>178</td>\n",
       "      <td>178</td>\n",
       "      <td>165</td>\n",
       "      <td>178</td>\n",
       "      <td>178</td>\n",
       "      <td>178</td>\n",
       "      <td>178</td>\n",
       "      <td>178</td>\n",
       "      <td>178</td>\n",
       "      <td>178</td>\n",
       "    </tr>\n",
       "    <tr>\n",
       "      <th>CONVERTIBLE</th>\n",
       "      <td>10476</td>\n",
       "      <td>10476</td>\n",
       "      <td>10476</td>\n",
       "      <td>10476</td>\n",
       "      <td>9562</td>\n",
       "      <td>10476</td>\n",
       "      <td>10476</td>\n",
       "      <td>10227</td>\n",
       "      <td>10475</td>\n",
       "      <td>10428</td>\n",
       "      <td>10428</td>\n",
       "      <td>10476</td>\n",
       "      <td>10476</td>\n",
       "      <td>10476</td>\n",
       "      <td>10476</td>\n",
       "    </tr>\n",
       "    <tr>\n",
       "      <th>COUPE</th>\n",
       "      <td>17751</td>\n",
       "      <td>17751</td>\n",
       "      <td>17751</td>\n",
       "      <td>17751</td>\n",
       "      <td>16389</td>\n",
       "      <td>17751</td>\n",
       "      <td>17751</td>\n",
       "      <td>17287</td>\n",
       "      <td>17748</td>\n",
       "      <td>17707</td>\n",
       "      <td>17707</td>\n",
       "      <td>17751</td>\n",
       "      <td>17751</td>\n",
       "      <td>17751</td>\n",
       "      <td>17751</td>\n",
       "    </tr>\n",
       "    <tr>\n",
       "      <th>CREW CAB</th>\n",
       "      <td>16394</td>\n",
       "      <td>16394</td>\n",
       "      <td>16394</td>\n",
       "      <td>16394</td>\n",
       "      <td>14614</td>\n",
       "      <td>16394</td>\n",
       "      <td>16394</td>\n",
       "      <td>16008</td>\n",
       "      <td>16392</td>\n",
       "      <td>16385</td>\n",
       "      <td>16385</td>\n",
       "      <td>16394</td>\n",
       "      <td>16394</td>\n",
       "      <td>16394</td>\n",
       "      <td>16394</td>\n",
       "    </tr>\n",
       "    <tr>\n",
       "      <th>CREWMAX CAB</th>\n",
       "      <td>565</td>\n",
       "      <td>565</td>\n",
       "      <td>565</td>\n",
       "      <td>565</td>\n",
       "      <td>503</td>\n",
       "      <td>565</td>\n",
       "      <td>565</td>\n",
       "      <td>550</td>\n",
       "      <td>565</td>\n",
       "      <td>565</td>\n",
       "      <td>565</td>\n",
       "      <td>565</td>\n",
       "      <td>565</td>\n",
       "      <td>565</td>\n",
       "      <td>565</td>\n",
       "    </tr>\n",
       "    <tr>\n",
       "      <th>CTS COUPE</th>\n",
       "      <td>158</td>\n",
       "      <td>158</td>\n",
       "      <td>158</td>\n",
       "      <td>158</td>\n",
       "      <td>120</td>\n",
       "      <td>158</td>\n",
       "      <td>158</td>\n",
       "      <td>158</td>\n",
       "      <td>158</td>\n",
       "      <td>158</td>\n",
       "      <td>158</td>\n",
       "      <td>158</td>\n",
       "      <td>158</td>\n",
       "      <td>158</td>\n",
       "      <td>158</td>\n",
       "    </tr>\n",
       "    <tr>\n",
       "      <th>CTS WAGON</th>\n",
       "      <td>14</td>\n",
       "      <td>14</td>\n",
       "      <td>14</td>\n",
       "      <td>14</td>\n",
       "      <td>12</td>\n",
       "      <td>14</td>\n",
       "      <td>14</td>\n",
       "      <td>13</td>\n",
       "      <td>14</td>\n",
       "      <td>14</td>\n",
       "      <td>14</td>\n",
       "      <td>14</td>\n",
       "      <td>14</td>\n",
       "      <td>14</td>\n",
       "      <td>14</td>\n",
       "    </tr>\n",
       "    <tr>\n",
       "      <th>CTS-V COUPE</th>\n",
       "      <td>35</td>\n",
       "      <td>35</td>\n",
       "      <td>35</td>\n",
       "      <td>35</td>\n",
       "      <td>27</td>\n",
       "      <td>35</td>\n",
       "      <td>35</td>\n",
       "      <td>34</td>\n",
       "      <td>35</td>\n",
       "      <td>35</td>\n",
       "      <td>35</td>\n",
       "      <td>35</td>\n",
       "      <td>35</td>\n",
       "      <td>35</td>\n",
       "      <td>35</td>\n",
       "    </tr>\n",
       "    <tr>\n",
       "      <th>CTS-V WAGON</th>\n",
       "      <td>1</td>\n",
       "      <td>1</td>\n",
       "      <td>1</td>\n",
       "      <td>1</td>\n",
       "      <td>1</td>\n",
       "      <td>1</td>\n",
       "      <td>1</td>\n",
       "      <td>1</td>\n",
       "      <td>1</td>\n",
       "      <td>1</td>\n",
       "      <td>1</td>\n",
       "      <td>1</td>\n",
       "      <td>1</td>\n",
       "      <td>1</td>\n",
       "      <td>1</td>\n",
       "    </tr>\n",
       "    <tr>\n",
       "      <th>DOUBLE CAB</th>\n",
       "      <td>1601</td>\n",
       "      <td>1601</td>\n",
       "      <td>1601</td>\n",
       "      <td>1601</td>\n",
       "      <td>1490</td>\n",
       "      <td>1601</td>\n",
       "      <td>1601</td>\n",
       "      <td>1577</td>\n",
       "      <td>1601</td>\n",
       "      <td>1601</td>\n",
       "      <td>1601</td>\n",
       "      <td>1601</td>\n",
       "      <td>1601</td>\n",
       "      <td>1601</td>\n",
       "      <td>1601</td>\n",
       "    </tr>\n",
       "    <tr>\n",
       "      <th>E-SERIES VAN</th>\n",
       "      <td>1823</td>\n",
       "      <td>1823</td>\n",
       "      <td>1823</td>\n",
       "      <td>1823</td>\n",
       "      <td>1110</td>\n",
       "      <td>1823</td>\n",
       "      <td>1823</td>\n",
       "      <td>1820</td>\n",
       "      <td>1823</td>\n",
       "      <td>1823</td>\n",
       "      <td>1823</td>\n",
       "      <td>1823</td>\n",
       "      <td>1823</td>\n",
       "      <td>1823</td>\n",
       "      <td>1823</td>\n",
       "    </tr>\n",
       "    <tr>\n",
       "      <th>ELANTRA COUPE</th>\n",
       "      <td>103</td>\n",
       "      <td>103</td>\n",
       "      <td>103</td>\n",
       "      <td>103</td>\n",
       "      <td>87</td>\n",
       "      <td>103</td>\n",
       "      <td>103</td>\n",
       "      <td>103</td>\n",
       "      <td>103</td>\n",
       "      <td>103</td>\n",
       "      <td>103</td>\n",
       "      <td>103</td>\n",
       "      <td>103</td>\n",
       "      <td>103</td>\n",
       "      <td>103</td>\n",
       "    </tr>\n",
       "    <tr>\n",
       "      <th>EXTENDED CAB</th>\n",
       "      <td>4507</td>\n",
       "      <td>4507</td>\n",
       "      <td>4507</td>\n",
       "      <td>4507</td>\n",
       "      <td>4137</td>\n",
       "      <td>4507</td>\n",
       "      <td>4507</td>\n",
       "      <td>4313</td>\n",
       "      <td>4503</td>\n",
       "      <td>4502</td>\n",
       "      <td>4502</td>\n",
       "      <td>4507</td>\n",
       "      <td>4507</td>\n",
       "      <td>4507</td>\n",
       "      <td>4507</td>\n",
       "    </tr>\n",
       "    <tr>\n",
       "      <th>G CONVERTIBLE</th>\n",
       "      <td>323</td>\n",
       "      <td>323</td>\n",
       "      <td>323</td>\n",
       "      <td>323</td>\n",
       "      <td>306</td>\n",
       "      <td>323</td>\n",
       "      <td>323</td>\n",
       "      <td>323</td>\n",
       "      <td>323</td>\n",
       "      <td>323</td>\n",
       "      <td>323</td>\n",
       "      <td>323</td>\n",
       "      <td>323</td>\n",
       "      <td>323</td>\n",
       "      <td>323</td>\n",
       "    </tr>\n",
       "    <tr>\n",
       "      <th>G COUPE</th>\n",
       "      <td>1593</td>\n",
       "      <td>1593</td>\n",
       "      <td>1593</td>\n",
       "      <td>1593</td>\n",
       "      <td>1505</td>\n",
       "      <td>1593</td>\n",
       "      <td>1593</td>\n",
       "      <td>1592</td>\n",
       "      <td>1593</td>\n",
       "      <td>1593</td>\n",
       "      <td>1593</td>\n",
       "      <td>1593</td>\n",
       "      <td>1593</td>\n",
       "      <td>1593</td>\n",
       "      <td>1593</td>\n",
       "    </tr>\n",
       "    <tr>\n",
       "      <th>G SEDAN</th>\n",
       "      <td>7417</td>\n",
       "      <td>7417</td>\n",
       "      <td>7417</td>\n",
       "      <td>7417</td>\n",
       "      <td>6944</td>\n",
       "      <td>7417</td>\n",
       "      <td>7417</td>\n",
       "      <td>7417</td>\n",
       "      <td>7417</td>\n",
       "      <td>7412</td>\n",
       "      <td>7412</td>\n",
       "      <td>7417</td>\n",
       "      <td>7417</td>\n",
       "      <td>7417</td>\n",
       "      <td>7417</td>\n",
       "    </tr>\n",
       "    <tr>\n",
       "      <th>G37 CONVERTIBLE</th>\n",
       "      <td>20</td>\n",
       "      <td>20</td>\n",
       "      <td>20</td>\n",
       "      <td>20</td>\n",
       "      <td>19</td>\n",
       "      <td>20</td>\n",
       "      <td>20</td>\n",
       "      <td>20</td>\n",
       "      <td>20</td>\n",
       "      <td>20</td>\n",
       "      <td>20</td>\n",
       "      <td>20</td>\n",
       "      <td>20</td>\n",
       "      <td>20</td>\n",
       "      <td>20</td>\n",
       "    </tr>\n",
       "    <tr>\n",
       "      <th>G37 COUPE</th>\n",
       "      <td>12</td>\n",
       "      <td>12</td>\n",
       "      <td>12</td>\n",
       "      <td>12</td>\n",
       "      <td>11</td>\n",
       "      <td>12</td>\n",
       "      <td>12</td>\n",
       "      <td>12</td>\n",
       "      <td>12</td>\n",
       "      <td>12</td>\n",
       "      <td>12</td>\n",
       "      <td>12</td>\n",
       "      <td>12</td>\n",
       "      <td>12</td>\n",
       "      <td>12</td>\n",
       "    </tr>\n",
       "    <tr>\n",
       "      <th>GENESIS COUPE</th>\n",
       "      <td>294</td>\n",
       "      <td>294</td>\n",
       "      <td>294</td>\n",
       "      <td>294</td>\n",
       "      <td>255</td>\n",
       "      <td>294</td>\n",
       "      <td>294</td>\n",
       "      <td>293</td>\n",
       "      <td>294</td>\n",
       "      <td>294</td>\n",
       "      <td>294</td>\n",
       "      <td>294</td>\n",
       "      <td>294</td>\n",
       "      <td>294</td>\n",
       "      <td>294</td>\n",
       "    </tr>\n",
       "    <tr>\n",
       "      <th>GRANTURISMO CONVERTIBLE</th>\n",
       "      <td>13</td>\n",
       "      <td>13</td>\n",
       "      <td>13</td>\n",
       "      <td>13</td>\n",
       "      <td>11</td>\n",
       "      <td>13</td>\n",
       "      <td>13</td>\n",
       "      <td>13</td>\n",
       "      <td>13</td>\n",
       "      <td>13</td>\n",
       "      <td>13</td>\n",
       "      <td>13</td>\n",
       "      <td>13</td>\n",
       "      <td>13</td>\n",
       "      <td>13</td>\n",
       "    </tr>\n",
       "    <tr>\n",
       "      <th>HATCHBACK</th>\n",
       "      <td>26237</td>\n",
       "      <td>26237</td>\n",
       "      <td>26237</td>\n",
       "      <td>26237</td>\n",
       "      <td>24242</td>\n",
       "      <td>26237</td>\n",
       "      <td>26237</td>\n",
       "      <td>25770</td>\n",
       "      <td>26234</td>\n",
       "      <td>26202</td>\n",
       "      <td>26202</td>\n",
       "      <td>26237</td>\n",
       "      <td>26237</td>\n",
       "      <td>26237</td>\n",
       "      <td>26237</td>\n",
       "    </tr>\n",
       "    <tr>\n",
       "      <th>KING CAB</th>\n",
       "      <td>532</td>\n",
       "      <td>532</td>\n",
       "      <td>532</td>\n",
       "      <td>532</td>\n",
       "      <td>464</td>\n",
       "      <td>532</td>\n",
       "      <td>532</td>\n",
       "      <td>513</td>\n",
       "      <td>532</td>\n",
       "      <td>532</td>\n",
       "      <td>532</td>\n",
       "      <td>532</td>\n",
       "      <td>532</td>\n",
       "      <td>532</td>\n",
       "      <td>532</td>\n",
       "    </tr>\n",
       "    <tr>\n",
       "      <th>KOUP</th>\n",
       "      <td>180</td>\n",
       "      <td>180</td>\n",
       "      <td>180</td>\n",
       "      <td>180</td>\n",
       "      <td>163</td>\n",
       "      <td>180</td>\n",
       "      <td>180</td>\n",
       "      <td>179</td>\n",
       "      <td>180</td>\n",
       "      <td>180</td>\n",
       "      <td>180</td>\n",
       "      <td>180</td>\n",
       "      <td>180</td>\n",
       "      <td>180</td>\n",
       "      <td>180</td>\n",
       "    </tr>\n",
       "    <tr>\n",
       "      <th>MEGA CAB</th>\n",
       "      <td>111</td>\n",
       "      <td>111</td>\n",
       "      <td>111</td>\n",
       "      <td>111</td>\n",
       "      <td>97</td>\n",
       "      <td>111</td>\n",
       "      <td>111</td>\n",
       "      <td>111</td>\n",
       "      <td>111</td>\n",
       "      <td>111</td>\n",
       "      <td>111</td>\n",
       "      <td>111</td>\n",
       "      <td>111</td>\n",
       "      <td>111</td>\n",
       "      <td>111</td>\n",
       "    </tr>\n",
       "    <tr>\n",
       "      <th>MINIVAN</th>\n",
       "      <td>25529</td>\n",
       "      <td>25529</td>\n",
       "      <td>25529</td>\n",
       "      <td>25529</td>\n",
       "      <td>22456</td>\n",
       "      <td>25529</td>\n",
       "      <td>25529</td>\n",
       "      <td>24881</td>\n",
       "      <td>25521</td>\n",
       "      <td>25515</td>\n",
       "      <td>25515</td>\n",
       "      <td>25529</td>\n",
       "      <td>25529</td>\n",
       "      <td>25529</td>\n",
       "      <td>25529</td>\n",
       "    </tr>\n",
       "    <tr>\n",
       "      <th>PROMASTER CARGO VAN</th>\n",
       "      <td>59</td>\n",
       "      <td>59</td>\n",
       "      <td>59</td>\n",
       "      <td>59</td>\n",
       "      <td>56</td>\n",
       "      <td>59</td>\n",
       "      <td>59</td>\n",
       "      <td>59</td>\n",
       "      <td>59</td>\n",
       "      <td>59</td>\n",
       "      <td>59</td>\n",
       "      <td>59</td>\n",
       "      <td>59</td>\n",
       "      <td>59</td>\n",
       "      <td>59</td>\n",
       "    </tr>\n",
       "    <tr>\n",
       "      <th>Q60 CONVERTIBLE</th>\n",
       "      <td>42</td>\n",
       "      <td>42</td>\n",
       "      <td>42</td>\n",
       "      <td>42</td>\n",
       "      <td>41</td>\n",
       "      <td>42</td>\n",
       "      <td>42</td>\n",
       "      <td>42</td>\n",
       "      <td>42</td>\n",
       "      <td>41</td>\n",
       "      <td>41</td>\n",
       "      <td>42</td>\n",
       "      <td>42</td>\n",
       "      <td>42</td>\n",
       "      <td>42</td>\n",
       "    </tr>\n",
       "    <tr>\n",
       "      <th>Q60 COUPE</th>\n",
       "      <td>36</td>\n",
       "      <td>36</td>\n",
       "      <td>36</td>\n",
       "      <td>36</td>\n",
       "      <td>36</td>\n",
       "      <td>36</td>\n",
       "      <td>36</td>\n",
       "      <td>36</td>\n",
       "      <td>36</td>\n",
       "      <td>36</td>\n",
       "      <td>36</td>\n",
       "      <td>36</td>\n",
       "      <td>36</td>\n",
       "      <td>36</td>\n",
       "      <td>36</td>\n",
       "    </tr>\n",
       "    <tr>\n",
       "      <th>QUAD CAB</th>\n",
       "      <td>4095</td>\n",
       "      <td>4095</td>\n",
       "      <td>4095</td>\n",
       "      <td>4095</td>\n",
       "      <td>3626</td>\n",
       "      <td>4095</td>\n",
       "      <td>4095</td>\n",
       "      <td>3981</td>\n",
       "      <td>4095</td>\n",
       "      <td>4094</td>\n",
       "      <td>4094</td>\n",
       "      <td>4095</td>\n",
       "      <td>4095</td>\n",
       "      <td>4095</td>\n",
       "      <td>4095</td>\n",
       "    </tr>\n",
       "    <tr>\n",
       "      <th>RAM VAN</th>\n",
       "      <td>1</td>\n",
       "      <td>1</td>\n",
       "      <td>1</td>\n",
       "      <td>1</td>\n",
       "      <td>1</td>\n",
       "      <td>1</td>\n",
       "      <td>1</td>\n",
       "      <td>1</td>\n",
       "      <td>1</td>\n",
       "      <td>1</td>\n",
       "      <td>1</td>\n",
       "      <td>1</td>\n",
       "      <td>1</td>\n",
       "      <td>1</td>\n",
       "      <td>1</td>\n",
       "    </tr>\n",
       "    <tr>\n",
       "      <th>REGULAR CAB</th>\n",
       "      <td>4850</td>\n",
       "      <td>4850</td>\n",
       "      <td>4850</td>\n",
       "      <td>4850</td>\n",
       "      <td>4196</td>\n",
       "      <td>4850</td>\n",
       "      <td>4850</td>\n",
       "      <td>4704</td>\n",
       "      <td>4846</td>\n",
       "      <td>4840</td>\n",
       "      <td>4840</td>\n",
       "      <td>4850</td>\n",
       "      <td>4850</td>\n",
       "      <td>4850</td>\n",
       "      <td>4850</td>\n",
       "    </tr>\n",
       "    <tr>\n",
       "      <th>REGULAR-CAB</th>\n",
       "      <td>15</td>\n",
       "      <td>15</td>\n",
       "      <td>15</td>\n",
       "      <td>15</td>\n",
       "      <td>14</td>\n",
       "      <td>15</td>\n",
       "      <td>15</td>\n",
       "      <td>15</td>\n",
       "      <td>15</td>\n",
       "      <td>15</td>\n",
       "      <td>15</td>\n",
       "      <td>15</td>\n",
       "      <td>15</td>\n",
       "      <td>15</td>\n",
       "      <td>15</td>\n",
       "    </tr>\n",
       "    <tr>\n",
       "      <th>SEDAN</th>\n",
       "      <td>241343</td>\n",
       "      <td>241343</td>\n",
       "      <td>241245</td>\n",
       "      <td>241343</td>\n",
       "      <td>215382</td>\n",
       "      <td>241343</td>\n",
       "      <td>241343</td>\n",
       "      <td>236871</td>\n",
       "      <td>241310</td>\n",
       "      <td>240985</td>\n",
       "      <td>240985</td>\n",
       "      <td>241343</td>\n",
       "      <td>241343</td>\n",
       "      <td>241343</td>\n",
       "      <td>241343</td>\n",
       "    </tr>\n",
       "    <tr>\n",
       "      <th>SUPERCAB</th>\n",
       "      <td>5311</td>\n",
       "      <td>5311</td>\n",
       "      <td>5311</td>\n",
       "      <td>5311</td>\n",
       "      <td>4330</td>\n",
       "      <td>5311</td>\n",
       "      <td>5311</td>\n",
       "      <td>5157</td>\n",
       "      <td>5309</td>\n",
       "      <td>5303</td>\n",
       "      <td>5303</td>\n",
       "      <td>5311</td>\n",
       "      <td>5311</td>\n",
       "      <td>5311</td>\n",
       "      <td>5311</td>\n",
       "    </tr>\n",
       "    <tr>\n",
       "      <th>SUPERCREW</th>\n",
       "      <td>9033</td>\n",
       "      <td>9033</td>\n",
       "      <td>9033</td>\n",
       "      <td>9033</td>\n",
       "      <td>7708</td>\n",
       "      <td>9033</td>\n",
       "      <td>9033</td>\n",
       "      <td>8886</td>\n",
       "      <td>9032</td>\n",
       "      <td>9022</td>\n",
       "      <td>9022</td>\n",
       "      <td>9033</td>\n",
       "      <td>9033</td>\n",
       "      <td>9033</td>\n",
       "      <td>9033</td>\n",
       "    </tr>\n",
       "    <tr>\n",
       "      <th>SUV</th>\n",
       "      <td>143843</td>\n",
       "      <td>143843</td>\n",
       "      <td>143843</td>\n",
       "      <td>143843</td>\n",
       "      <td>123759</td>\n",
       "      <td>143843</td>\n",
       "      <td>143843</td>\n",
       "      <td>140658</td>\n",
       "      <td>143825</td>\n",
       "      <td>143689</td>\n",
       "      <td>143689</td>\n",
       "      <td>143843</td>\n",
       "      <td>143843</td>\n",
       "      <td>143843</td>\n",
       "      <td>143843</td>\n",
       "    </tr>\n",
       "    <tr>\n",
       "      <th>TRANSIT VAN</th>\n",
       "      <td>19</td>\n",
       "      <td>19</td>\n",
       "      <td>19</td>\n",
       "      <td>19</td>\n",
       "      <td>17</td>\n",
       "      <td>19</td>\n",
       "      <td>19</td>\n",
       "      <td>19</td>\n",
       "      <td>19</td>\n",
       "      <td>19</td>\n",
       "      <td>19</td>\n",
       "      <td>19</td>\n",
       "      <td>19</td>\n",
       "      <td>19</td>\n",
       "      <td>19</td>\n",
       "    </tr>\n",
       "    <tr>\n",
       "      <th>TSX SPORT WAGON</th>\n",
       "      <td>36</td>\n",
       "      <td>36</td>\n",
       "      <td>36</td>\n",
       "      <td>36</td>\n",
       "      <td>28</td>\n",
       "      <td>36</td>\n",
       "      <td>36</td>\n",
       "      <td>36</td>\n",
       "      <td>36</td>\n",
       "      <td>36</td>\n",
       "      <td>36</td>\n",
       "      <td>36</td>\n",
       "      <td>36</td>\n",
       "      <td>36</td>\n",
       "      <td>36</td>\n",
       "    </tr>\n",
       "    <tr>\n",
       "      <th>VAN</th>\n",
       "      <td>4528</td>\n",
       "      <td>4528</td>\n",
       "      <td>4528</td>\n",
       "      <td>4528</td>\n",
       "      <td>3560</td>\n",
       "      <td>4528</td>\n",
       "      <td>4528</td>\n",
       "      <td>4473</td>\n",
       "      <td>4527</td>\n",
       "      <td>4525</td>\n",
       "      <td>4525</td>\n",
       "      <td>4528</td>\n",
       "      <td>4528</td>\n",
       "      <td>4528</td>\n",
       "      <td>4528</td>\n",
       "    </tr>\n",
       "    <tr>\n",
       "      <th>WAGON</th>\n",
       "      <td>16129</td>\n",
       "      <td>16129</td>\n",
       "      <td>16129</td>\n",
       "      <td>16129</td>\n",
       "      <td>14615</td>\n",
       "      <td>16129</td>\n",
       "      <td>16129</td>\n",
       "      <td>15697</td>\n",
       "      <td>16124</td>\n",
       "      <td>16109</td>\n",
       "      <td>16109</td>\n",
       "      <td>16129</td>\n",
       "      <td>16129</td>\n",
       "      <td>16129</td>\n",
       "      <td>16129</td>\n",
       "    </tr>\n",
       "    <tr>\n",
       "      <th>XTRACAB</th>\n",
       "      <td>44</td>\n",
       "      <td>44</td>\n",
       "      <td>44</td>\n",
       "      <td>44</td>\n",
       "      <td>36</td>\n",
       "      <td>44</td>\n",
       "      <td>44</td>\n",
       "      <td>42</td>\n",
       "      <td>44</td>\n",
       "      <td>44</td>\n",
       "      <td>44</td>\n",
       "      <td>44</td>\n",
       "      <td>44</td>\n",
       "      <td>44</td>\n",
       "      <td>44</td>\n",
       "    </tr>\n",
       "  </tbody>\n",
       "</table>\n",
       "</div>"
      ],
      "text/plain": [
       "                           year    make   model    trim  transmission     vin  \\\n",
       "body                                                                            \n",
       "ACCESS CAB                  294     294     294     294           270     294   \n",
       "BEETLE CONVERTIBLE           59      59      59      59            53      59   \n",
       "CAB PLUS                      4       4       4       4             4       4   \n",
       "CAB PLUS 4                    6       6       6       6             5       6   \n",
       "CLUB CAB                    178     178     178     178           162     178   \n",
       "CONVERTIBLE               10476   10476   10476   10476          9562   10476   \n",
       "COUPE                     17751   17751   17751   17751         16389   17751   \n",
       "CREW CAB                  16394   16394   16394   16394         14614   16394   \n",
       "CREWMAX CAB                 565     565     565     565           503     565   \n",
       "CTS COUPE                   158     158     158     158           120     158   \n",
       "CTS WAGON                    14      14      14      14            12      14   \n",
       "CTS-V COUPE                  35      35      35      35            27      35   \n",
       "CTS-V WAGON                   1       1       1       1             1       1   \n",
       "DOUBLE CAB                 1601    1601    1601    1601          1490    1601   \n",
       "E-SERIES VAN               1823    1823    1823    1823          1110    1823   \n",
       "ELANTRA COUPE               103     103     103     103            87     103   \n",
       "EXTENDED CAB               4507    4507    4507    4507          4137    4507   \n",
       "G CONVERTIBLE               323     323     323     323           306     323   \n",
       "G COUPE                    1593    1593    1593    1593          1505    1593   \n",
       "G SEDAN                    7417    7417    7417    7417          6944    7417   \n",
       "G37 CONVERTIBLE              20      20      20      20            19      20   \n",
       "G37 COUPE                    12      12      12      12            11      12   \n",
       "GENESIS COUPE               294     294     294     294           255     294   \n",
       "GRANTURISMO CONVERTIBLE      13      13      13      13            11      13   \n",
       "HATCHBACK                 26237   26237   26237   26237         24242   26237   \n",
       "KING CAB                    532     532     532     532           464     532   \n",
       "KOUP                        180     180     180     180           163     180   \n",
       "MEGA CAB                    111     111     111     111            97     111   \n",
       "MINIVAN                   25529   25529   25529   25529         22456   25529   \n",
       "PROMASTER CARGO VAN          59      59      59      59            56      59   \n",
       "Q60 CONVERTIBLE              42      42      42      42            41      42   \n",
       "Q60 COUPE                    36      36      36      36            36      36   \n",
       "QUAD CAB                   4095    4095    4095    4095          3626    4095   \n",
       "RAM VAN                       1       1       1       1             1       1   \n",
       "REGULAR CAB                4850    4850    4850    4850          4196    4850   \n",
       "REGULAR-CAB                  15      15      15      15            14      15   \n",
       "SEDAN                    241343  241343  241245  241343        215382  241343   \n",
       "SUPERCAB                   5311    5311    5311    5311          4330    5311   \n",
       "SUPERCREW                  9033    9033    9033    9033          7708    9033   \n",
       "SUV                      143843  143843  143843  143843        123759  143843   \n",
       "TRANSIT VAN                  19      19      19      19            17      19   \n",
       "TSX SPORT WAGON              36      36      36      36            28      36   \n",
       "VAN                        4528    4528    4528    4528          3560    4528   \n",
       "WAGON                     16129   16129   16129   16129         14615   16129   \n",
       "XTRACAB                      44      44      44      44            36      44   \n",
       "\n",
       "                          state  condition  odometer   color  interior  \\\n",
       "body                                                                     \n",
       "ACCESS CAB                  294        289       294     293       293   \n",
       "BEETLE CONVERTIBLE           59         59        59      58        58   \n",
       "CAB PLUS                      4          3         4       4         4   \n",
       "CAB PLUS 4                    6          6         6       6         6   \n",
       "CLUB CAB                    178        165       178     178       178   \n",
       "CONVERTIBLE               10476      10227     10475   10428     10428   \n",
       "COUPE                     17751      17287     17748   17707     17707   \n",
       "CREW CAB                  16394      16008     16392   16385     16385   \n",
       "CREWMAX CAB                 565        550       565     565       565   \n",
       "CTS COUPE                   158        158       158     158       158   \n",
       "CTS WAGON                    14         13        14      14        14   \n",
       "CTS-V COUPE                  35         34        35      35        35   \n",
       "CTS-V WAGON                   1          1         1       1         1   \n",
       "DOUBLE CAB                 1601       1577      1601    1601      1601   \n",
       "E-SERIES VAN               1823       1820      1823    1823      1823   \n",
       "ELANTRA COUPE               103        103       103     103       103   \n",
       "EXTENDED CAB               4507       4313      4503    4502      4502   \n",
       "G CONVERTIBLE               323        323       323     323       323   \n",
       "G COUPE                    1593       1592      1593    1593      1593   \n",
       "G SEDAN                    7417       7417      7417    7412      7412   \n",
       "G37 CONVERTIBLE              20         20        20      20        20   \n",
       "G37 COUPE                    12         12        12      12        12   \n",
       "GENESIS COUPE               294        293       294     294       294   \n",
       "GRANTURISMO CONVERTIBLE      13         13        13      13        13   \n",
       "HATCHBACK                 26237      25770     26234   26202     26202   \n",
       "KING CAB                    532        513       532     532       532   \n",
       "KOUP                        180        179       180     180       180   \n",
       "MEGA CAB                    111        111       111     111       111   \n",
       "MINIVAN                   25529      24881     25521   25515     25515   \n",
       "PROMASTER CARGO VAN          59         59        59      59        59   \n",
       "Q60 CONVERTIBLE              42         42        42      41        41   \n",
       "Q60 COUPE                    36         36        36      36        36   \n",
       "QUAD CAB                   4095       3981      4095    4094      4094   \n",
       "RAM VAN                       1          1         1       1         1   \n",
       "REGULAR CAB                4850       4704      4846    4840      4840   \n",
       "REGULAR-CAB                  15         15        15      15        15   \n",
       "SEDAN                    241343     236871    241310  240985    240985   \n",
       "SUPERCAB                   5311       5157      5309    5303      5303   \n",
       "SUPERCREW                  9033       8886      9032    9022      9022   \n",
       "SUV                      143843     140658    143825  143689    143689   \n",
       "TRANSIT VAN                  19         19        19      19        19   \n",
       "TSX SPORT WAGON              36         36        36      36        36   \n",
       "VAN                        4528       4473      4527    4525      4525   \n",
       "WAGON                     16129      15697     16124   16109     16109   \n",
       "XTRACAB                      44         42        44      44        44   \n",
       "\n",
       "                         seller     mmr  sellingprice  saledate  \n",
       "body                                                             \n",
       "ACCESS CAB                  294     294           294       294  \n",
       "BEETLE CONVERTIBLE           59      59            59        59  \n",
       "CAB PLUS                      4       4             4         4  \n",
       "CAB PLUS 4                    6       6             6         6  \n",
       "CLUB CAB                    178     178           178       178  \n",
       "CONVERTIBLE               10476   10476         10476     10476  \n",
       "COUPE                     17751   17751         17751     17751  \n",
       "CREW CAB                  16394   16394         16394     16394  \n",
       "CREWMAX CAB                 565     565           565       565  \n",
       "CTS COUPE                   158     158           158       158  \n",
       "CTS WAGON                    14      14            14        14  \n",
       "CTS-V COUPE                  35      35            35        35  \n",
       "CTS-V WAGON                   1       1             1         1  \n",
       "DOUBLE CAB                 1601    1601          1601      1601  \n",
       "E-SERIES VAN               1823    1823          1823      1823  \n",
       "ELANTRA COUPE               103     103           103       103  \n",
       "EXTENDED CAB               4507    4507          4507      4507  \n",
       "G CONVERTIBLE               323     323           323       323  \n",
       "G COUPE                    1593    1593          1593      1593  \n",
       "G SEDAN                    7417    7417          7417      7417  \n",
       "G37 CONVERTIBLE              20      20            20        20  \n",
       "G37 COUPE                    12      12            12        12  \n",
       "GENESIS COUPE               294     294           294       294  \n",
       "GRANTURISMO CONVERTIBLE      13      13            13        13  \n",
       "HATCHBACK                 26237   26237         26237     26237  \n",
       "KING CAB                    532     532           532       532  \n",
       "KOUP                        180     180           180       180  \n",
       "MEGA CAB                    111     111           111       111  \n",
       "MINIVAN                   25529   25529         25529     25529  \n",
       "PROMASTER CARGO VAN          59      59            59        59  \n",
       "Q60 CONVERTIBLE              42      42            42        42  \n",
       "Q60 COUPE                    36      36            36        36  \n",
       "QUAD CAB                   4095    4095          4095      4095  \n",
       "RAM VAN                       1       1             1         1  \n",
       "REGULAR CAB                4850    4850          4850      4850  \n",
       "REGULAR-CAB                  15      15            15        15  \n",
       "SEDAN                    241343  241343        241343    241343  \n",
       "SUPERCAB                   5311    5311          5311      5311  \n",
       "SUPERCREW                  9033    9033          9033      9033  \n",
       "SUV                      143843  143843        143843    143843  \n",
       "TRANSIT VAN                  19      19            19        19  \n",
       "TSX SPORT WAGON              36      36            36        36  \n",
       "VAN                        4528    4528          4528      4528  \n",
       "WAGON                     16129   16129         16129     16129  \n",
       "XTRACAB                      44      44            44        44  "
      ]
     },
     "execution_count": 73,
     "metadata": {},
     "output_type": "execute_result"
    }
   ],
   "source": [
    "df_filt.groupby('body').count()"
   ]
  },
  {
   "cell_type": "code",
   "execution_count": 74,
   "metadata": {},
   "outputs": [],
   "source": [
    "# Group by body and count the data\n",
    "df_grp_body = df_filt.groupby('body').count().reset_index()[['body','model']].sort_values('model',ascending=False)\n",
    "\n",
    "# Get cumulative sum by each body count\n",
    "df_grp_body['body_count']=df_grp_body['model'].cumsum()\n",
    "\n",
    "# Convert cumulative sum to percentage\n",
    "df_grp_body['pcg_csum']=df_grp_body['body_count']/df_grp_body['body_count'].max()\n",
    "\n",
    "# Keep only most 95% data\n",
    "df_grp_body = df_grp_body[df_grp_body['pcg_csum']<=0.95]"
   ]
  },
  {
   "cell_type": "code",
   "execution_count": 70,
   "metadata": {},
   "outputs": [
    {
     "data": {
      "text/html": [
       "<div>\n",
       "<style scoped>\n",
       "    .dataframe tbody tr th:only-of-type {\n",
       "        vertical-align: middle;\n",
       "    }\n",
       "\n",
       "    .dataframe tbody tr th {\n",
       "        vertical-align: top;\n",
       "    }\n",
       "\n",
       "    .dataframe thead th {\n",
       "        text-align: right;\n",
       "    }\n",
       "</style>\n",
       "<table border=\"1\" class=\"dataframe\">\n",
       "  <thead>\n",
       "    <tr style=\"text-align: right;\">\n",
       "      <th></th>\n",
       "      <th>body</th>\n",
       "      <th>model</th>\n",
       "      <th>body_count</th>\n",
       "      <th>pcg_csum</th>\n",
       "    </tr>\n",
       "  </thead>\n",
       "  <tbody>\n",
       "    <tr>\n",
       "      <th>36</th>\n",
       "      <td>SEDAN</td>\n",
       "      <td>241202</td>\n",
       "      <td>241202</td>\n",
       "      <td>0.442287</td>\n",
       "    </tr>\n",
       "    <tr>\n",
       "      <th>39</th>\n",
       "      <td>SUV</td>\n",
       "      <td>143798</td>\n",
       "      <td>385000</td>\n",
       "      <td>0.705966</td>\n",
       "    </tr>\n",
       "    <tr>\n",
       "      <th>24</th>\n",
       "      <td>HATCHBACK</td>\n",
       "      <td>26237</td>\n",
       "      <td>411237</td>\n",
       "      <td>0.754076</td>\n",
       "    </tr>\n",
       "    <tr>\n",
       "      <th>28</th>\n",
       "      <td>MINIVAN</td>\n",
       "      <td>25529</td>\n",
       "      <td>436766</td>\n",
       "      <td>0.800888</td>\n",
       "    </tr>\n",
       "    <tr>\n",
       "      <th>6</th>\n",
       "      <td>COUPE</td>\n",
       "      <td>17716</td>\n",
       "      <td>454482</td>\n",
       "      <td>0.833374</td>\n",
       "    </tr>\n",
       "  </tbody>\n",
       "</table>\n",
       "</div>"
      ],
      "text/plain": [
       "         body   model  body_count  pcg_csum\n",
       "36      SEDAN  241202      241202  0.442287\n",
       "39        SUV  143798      385000  0.705966\n",
       "24  HATCHBACK   26237      411237  0.754076\n",
       "28    MINIVAN   25529      436766  0.800888\n",
       "6       COUPE   17716      454482  0.833374"
      ]
     },
     "execution_count": 70,
     "metadata": {},
     "output_type": "execute_result"
    }
   ],
   "source": [
    "df_grp_body.head(5)"
   ]
  },
  {
   "cell_type": "code",
   "execution_count": 75,
   "metadata": {},
   "outputs": [
    {
     "name": "stdout",
     "output_type": "stream",
     "text": [
      "(10, 4)\n"
     ]
    }
   ],
   "source": [
    "print(df_grp_body.shape)\n",
    "#df_grp_body"
   ]
  },
  {
   "cell_type": "code",
   "execution_count": 76,
   "metadata": {},
   "outputs": [],
   "source": [
    "df_filt = df_filt[df_filt['body'].isin(df_grp_body['body'])]"
   ]
  },
  {
   "cell_type": "code",
   "execution_count": 77,
   "metadata": {},
   "outputs": [
    {
     "name": "stdout",
     "output_type": "stream",
     "text": [
      "(514152, 16)\n"
     ]
    }
   ],
   "source": [
    "print(df_filt.shape)"
   ]
  },
  {
   "cell_type": "markdown",
   "metadata": {},
   "source": [
    "## Measure of Central Tendency and Variance"
   ]
  },
  {
   "cell_type": "code",
   "execution_count": 109,
   "metadata": {},
   "outputs": [
    {
     "data": {
      "text/html": [
       "<div>\n",
       "<style scoped>\n",
       "    .dataframe tbody tr th:only-of-type {\n",
       "        vertical-align: middle;\n",
       "    }\n",
       "\n",
       "    .dataframe tbody tr th {\n",
       "        vertical-align: top;\n",
       "    }\n",
       "\n",
       "    .dataframe thead th {\n",
       "        text-align: right;\n",
       "    }\n",
       "</style>\n",
       "<table border=\"1\" class=\"dataframe\">\n",
       "  <thead>\n",
       "    <tr style=\"text-align: right;\">\n",
       "      <th></th>\n",
       "      <th>year</th>\n",
       "      <th>condition</th>\n",
       "      <th>odometer</th>\n",
       "      <th>mmr</th>\n",
       "      <th>sellingprice</th>\n",
       "    </tr>\n",
       "  </thead>\n",
       "  <tbody>\n",
       "    <tr>\n",
       "      <th>count</th>\n",
       "      <td>513988.000000</td>\n",
       "      <td>503539.000000</td>\n",
       "      <td>513914.000000</td>\n",
       "      <td>513988.000000</td>\n",
       "      <td>513988.000000</td>\n",
       "    </tr>\n",
       "    <tr>\n",
       "      <th>mean</th>\n",
       "      <td>2010.187666</td>\n",
       "      <td>3.444605</td>\n",
       "      <td>66472.522148</td>\n",
       "      <td>13818.343619</td>\n",
       "      <td>13656.737653</td>\n",
       "    </tr>\n",
       "    <tr>\n",
       "      <th>std</th>\n",
       "      <td>3.866537</td>\n",
       "      <td>0.941208</td>\n",
       "      <td>51595.362591</td>\n",
       "      <td>9518.201832</td>\n",
       "      <td>9583.838437</td>\n",
       "    </tr>\n",
       "    <tr>\n",
       "      <th>min</th>\n",
       "      <td>1990.000000</td>\n",
       "      <td>1.000000</td>\n",
       "      <td>1.000000</td>\n",
       "      <td>25.000000</td>\n",
       "      <td>1.000000</td>\n",
       "    </tr>\n",
       "    <tr>\n",
       "      <th>25%</th>\n",
       "      <td>2008.000000</td>\n",
       "      <td>2.700000</td>\n",
       "      <td>28199.250000</td>\n",
       "      <td>7350.000000</td>\n",
       "      <td>7100.000000</td>\n",
       "    </tr>\n",
       "    <tr>\n",
       "      <th>50%</th>\n",
       "      <td>2012.000000</td>\n",
       "      <td>3.600000</td>\n",
       "      <td>50583.500000</td>\n",
       "      <td>12300.000000</td>\n",
       "      <td>12200.000000</td>\n",
       "    </tr>\n",
       "    <tr>\n",
       "      <th>75%</th>\n",
       "      <td>2013.000000</td>\n",
       "      <td>4.200000</td>\n",
       "      <td>96257.000000</td>\n",
       "      <td>18150.000000</td>\n",
       "      <td>18000.000000</td>\n",
       "    </tr>\n",
       "    <tr>\n",
       "      <th>max</th>\n",
       "      <td>2015.000000</td>\n",
       "      <td>5.000000</td>\n",
       "      <td>999999.000000</td>\n",
       "      <td>116000.000000</td>\n",
       "      <td>100000.000000</td>\n",
       "    </tr>\n",
       "  </tbody>\n",
       "</table>\n",
       "</div>"
      ],
      "text/plain": [
       "                year      condition       odometer            mmr  \\\n",
       "count  513988.000000  503539.000000  513914.000000  513988.000000   \n",
       "mean     2010.187666       3.444605   66472.522148   13818.343619   \n",
       "std         3.866537       0.941208   51595.362591    9518.201832   \n",
       "min      1990.000000       1.000000       1.000000      25.000000   \n",
       "25%      2008.000000       2.700000   28199.250000    7350.000000   \n",
       "50%      2012.000000       3.600000   50583.500000   12300.000000   \n",
       "75%      2013.000000       4.200000   96257.000000   18150.000000   \n",
       "max      2015.000000       5.000000  999999.000000  116000.000000   \n",
       "\n",
       "        sellingprice  \n",
       "count  513988.000000  \n",
       "mean    13656.737653  \n",
       "std      9583.838437  \n",
       "min         1.000000  \n",
       "25%      7100.000000  \n",
       "50%     12200.000000  \n",
       "75%     18000.000000  \n",
       "max    100000.000000  "
      ]
     },
     "execution_count": 109,
     "metadata": {},
     "output_type": "execute_result"
    }
   ],
   "source": [
    "df_filt.describe()"
   ]
  },
  {
   "cell_type": "code",
   "execution_count": 74,
   "metadata": {},
   "outputs": [
    {
     "name": "stdout",
     "output_type": "stream",
     "text": [
      "count    513988.000000\n",
      "mean      13656.737653\n",
      "std        9583.838437\n",
      "min           1.000000\n",
      "25%        7100.000000\n",
      "50%       12200.000000\n",
      "75%       18000.000000\n",
      "max      100000.000000\n",
      "Name: sellingprice, dtype: float64\n"
     ]
    },
    {
     "data": {
      "text/plain": [
       "13656.73765340825"
      ]
     },
     "execution_count": 74,
     "metadata": {},
     "output_type": "execute_result"
    }
   ],
   "source": [
    "print(df_filt['sellingprice'].describe())\n",
    "df_filt['sellingprice'].describe()['mean']"
   ]
  },
  {
   "cell_type": "markdown",
   "metadata": {},
   "source": [
    "Calculate variance and standard deviation for all the numeric columns"
   ]
  },
  {
   "cell_type": "code",
   "execution_count": 91,
   "metadata": {},
   "outputs": [
    {
     "name": "stdout",
     "output_type": "stream",
     "text": [
      "Numeric columns Standard Deviation\n",
      "year                3.866301\n",
      "condition           0.941269\n",
      "odometer        51596.859074\n",
      "mmr              9726.904186\n",
      "sellingprice     9789.589389\n",
      "dtype: float64\n",
      "\n",
      "Numeric columns Variance\n",
      "year            1.494829e+01\n",
      "condition       8.859880e-01\n",
      "odometer        2.662236e+09\n",
      "mmr             9.461267e+07\n",
      "sellingprice    9.583606e+07\n",
      "dtype: float64\n",
      "\n",
      "year                25.0\n",
      "condition            4.0\n",
      "odometer        999998.0\n",
      "mmr             177975.0\n",
      "sellingprice    172999.0\n",
      "dtype: float64\n"
     ]
    }
   ],
   "source": [
    "# Standard deviation\n",
    "print(\"Numeric columns Standard Deviation\")\n",
    "print(df_filt.std())\n",
    "print(\"\")\n",
    "print(\"Numeric columns Variance\")\n",
    "print(df_filt.var())\n",
    "print(\"\")\n",
    "#Range\n",
    "num_columns = df_filt.describe().columns\n",
    "print(df_filt[num_columns].max()-df_filt[num_columns].min())"
   ]
  },
  {
   "cell_type": "code",
   "execution_count": 93,
   "metadata": {},
   "outputs": [
    {
     "data": {
      "text/plain": [
       "0    11000\n",
       "dtype: int64"
      ]
     },
     "execution_count": 93,
     "metadata": {},
     "output_type": "execute_result"
    }
   ],
   "source": [
    "df_filt['sellingprice'].mode()"
   ]
  },
  {
   "cell_type": "code",
   "execution_count": 95,
   "metadata": {},
   "outputs": [
    {
     "data": {
      "text/plain": [
       "<matplotlib.lines.Line2D at 0x1739e488b80>"
      ]
     },
     "execution_count": 95,
     "metadata": {},
     "output_type": "execute_result"
    },
    {
     "data": {
      "image/png": "[encoded data removed]",
      "text/plain": [
       "<Figure size 432x288 with 1 Axes>"
      ]
     },
     "metadata": {
      "needs_background": "light"
     },
     "output_type": "display_data"
    }
   ],
   "source": [
    "df_filt['sellingprice'].plot.hist(bins=100,density=True)\n",
    "plt.axvline(df_filt['sellingprice'].describe()['mean'], color='red', linestyle='dashed', linewidth=2)\n",
    "plt.axvline(df_filt['sellingprice'].describe()['50%'], color='magenta', linestyle='dashed', linewidth=2)\n",
    "plt.axvline(df_filt['sellingprice'].describe()['mean']+df_filt['sellingprice'].describe()['std']\n",
    "            , color='green', linestyle='dashed', linewidth=2)\n",
    "plt.axvline(df_filt['sellingprice'].mode()[0], color='yellow', linestyle='dashed', linewidth=2)"
   ]
  },
  {
   "cell_type": "markdown",
   "metadata": {},
   "source": [
    "Distribution Fit"
   ]
  },
  {
   "cell_type": "code",
   "execution_count": 76,
   "metadata": {},
   "outputs": [
    {
     "data": {
      "text/plain": [
       "[<matplotlib.lines.Line2D at 0x26c8007f460>]"
      ]
     },
     "execution_count": 76,
     "metadata": {},
     "output_type": "execute_result"
    },
    {
     "data": {
      "image/png": "[encoded data removed]",
      "text/plain": [
       "<Figure size 432x288 with 1 Axes>"
      ]
     },
     "metadata": {
      "needs_background": "light"
     },
     "output_type": "display_data"
    }
   ],
   "source": [
    "from scipy.stats import beta as beta_fun\n",
    "fig, ax = plt.subplots(1, 1)\n",
    "df_filt['sellingprice'].plot.hist(bins=20,density=True)\n",
    "\n",
    "alpha = 2.3\n",
    "beta = 14\n",
    "x = np.linspace(0,1, 100)\n",
    "plt.plot(100000*x, beta_fun.pdf(x,alpha,beta)/100000,'m-', lw=1.5, alpha=1, label='norm pdf')\n",
    "\n",
    "x = np.linspace(0,100000, 100)\n",
    "plt.plot(x, norm.pdf(x,df_filt['sellingprice'].describe()['mean'],df_filt['sellingprice'].describe()['std']-2000)\n",
    "         ,'r-', lw=1.5, alpha=1, label='expon pdf')"
   ]
  },
  {
   "cell_type": "code",
   "execution_count": 77,
   "metadata": {},
   "outputs": [
    {
     "name": "stdout",
     "output_type": "stream",
     "text": [
      "14110.429447852759\n"
     ]
    }
   ],
   "source": [
    "Exp_value = alpha/(alpha+beta)*100000\n",
    "print(Exp_value)"
   ]
  },
  {
   "cell_type": "markdown",
   "metadata": {},
   "source": [
    "### Skewness and Kurtosis"
   ]
  },
  {
   "cell_type": "code",
   "execution_count": 96,
   "metadata": {
    "scrolled": true
   },
   "outputs": [
    {
     "data": {
      "text/plain": [
       "year             1.072042\n",
       "condition       -0.760453\n",
       "odometer        14.167498\n",
       "mmr             11.866219\n",
       "sellingprice    11.105255\n",
       "dtype: float64"
      ]
     },
     "execution_count": 96,
     "metadata": {},
     "output_type": "execute_result"
    }
   ],
   "source": [
    "df_filt.kurtosis()"
   ]
  },
  {
   "cell_type": "markdown",
   "metadata": {},
   "source": [
    "We can expect a more uniform distribution in year and condition due to its low kurtosis"
   ]
  },
  {
   "cell_type": "code",
   "execution_count": 99,
   "metadata": {},
   "outputs": [
    {
     "data": {
      "text/plain": [
       "(array([3.94759e+05, 1.09931e+05, 8.91000e+03, 3.87000e+02, 2.30000e+01,\n",
       "        3.00000e+00, 3.00000e+00, 0.00000e+00, 0.00000e+00, 6.20000e+01]),\n",
       " array([1.000000e+00, 1.000008e+05, 2.000006e+05, 3.000004e+05,\n",
       "        4.000002e+05, 5.000000e+05, 5.999998e+05, 6.999996e+05,\n",
       "        7.999994e+05, 8.999992e+05, 9.999990e+05]),\n",
       " <BarContainer object of 10 artists>)"
      ]
     },
     "execution_count": 99,
     "metadata": {},
     "output_type": "execute_result"
    },
    {
     "data": {
      "image/png": "[encoded data removed]",
      "text/plain": [
       "<Figure size 432x288 with 1 Axes>"
      ]
     },
     "metadata": {
      "needs_background": "light"
     },
     "output_type": "display_data"
    }
   ],
   "source": [
    "plt.hist(df_filt['odometer'])"
   ]
  },
  {
   "cell_type": "code",
   "execution_count": 97,
   "metadata": {},
   "outputs": [
    {
     "data": {
      "text/plain": [
       "(array([ 6673.,   605., 63679., 32513., 60323., 53567., 88279., 59387.,\n",
       "        81949., 56727.]),\n",
       " array([1. , 1.4, 1.8, 2.2, 2.6, 3. , 3.4, 3.8, 4.2, 4.6, 5. ]),\n",
       " <BarContainer object of 10 artists>)"
      ]
     },
     "execution_count": 97,
     "metadata": {},
     "output_type": "execute_result"
    },
    {
     "data": {
      "image/png": "[encoded data removed]",
      "text/plain": [
       "<Figure size 432x288 with 1 Axes>"
      ]
     },
     "metadata": {
      "needs_background": "light"
     },
     "output_type": "display_data"
    }
   ],
   "source": [
    "plt.hist(df_filt['condition'])"
   ]
  },
  {
   "cell_type": "code",
   "execution_count": 100,
   "metadata": {},
   "outputs": [
    {
     "data": {
      "text/plain": [
       "year           -1.222460\n",
       "condition      -0.379447\n",
       "odometer        1.860044\n",
       "mmr             2.065352\n",
       "sellingprice    2.003323\n",
       "dtype: float64"
      ]
     },
     "execution_count": 100,
     "metadata": {},
     "output_type": "execute_result"
    }
   ],
   "source": [
    "df_filt.skew()"
   ]
  },
  {
   "cell_type": "code",
   "execution_count": 101,
   "metadata": {},
   "outputs": [
    {
     "data": {
      "text/plain": [
       "2.0033230693626134"
      ]
     },
     "execution_count": 101,
     "metadata": {},
     "output_type": "execute_result"
    }
   ],
   "source": [
    "df_filt['sellingprice'].skew()"
   ]
  },
  {
   "cell_type": "code",
   "execution_count": 102,
   "metadata": {},
   "outputs": [
    {
     "data": {
      "text/plain": [
       "1.966637972124218"
      ]
     },
     "execution_count": 102,
     "metadata": {},
     "output_type": "execute_result"
    }
   ],
   "source": [
    "np.log(df_filt['sellingprice']).kurtosis()"
   ]
  },
  {
   "cell_type": "code",
   "execution_count": 103,
   "metadata": {
    "scrolled": false
   },
   "outputs": [
    {
     "data": {
      "text/plain": [
       "-1.234321401885297"
      ]
     },
     "execution_count": 103,
     "metadata": {},
     "output_type": "execute_result"
    }
   ],
   "source": [
    "np.log10(df_filt['sellingprice']).skew()"
   ]
  },
  {
   "cell_type": "code",
   "execution_count": 105,
   "metadata": {},
   "outputs": [
    {
     "data": {
      "text/plain": [
       "(array([3.74384e+05, 1.23111e+05, 1.37240e+04, 1.98500e+03, 6.37000e+02,\n",
       "        1.65000e+02, 7.10000e+01, 3.10000e+01, 2.70000e+01, 1.70000e+01]),\n",
       " array([1.000000e+00, 1.730090e+04, 3.460080e+04, 5.190070e+04,\n",
       "        6.920060e+04, 8.650050e+04, 1.038004e+05, 1.211003e+05,\n",
       "        1.384002e+05, 1.557001e+05, 1.730000e+05]),\n",
       " <BarContainer object of 10 artists>)"
      ]
     },
     "execution_count": 105,
     "metadata": {},
     "output_type": "execute_result"
    },
    {
     "data": {
      "image/png": "[encoded data removed]",
      "text/plain": [
       "<Figure size 432x288 with 1 Axes>"
      ]
     },
     "metadata": {
      "needs_background": "light"
     },
     "output_type": "display_data"
    }
   ],
   "source": [
    "plt.hist(df_filt['sellingprice'])"
   ]
  },
  {
   "cell_type": "code",
   "execution_count": 104,
   "metadata": {},
   "outputs": [
    {
     "data": {
      "text/plain": [
       "(array([3.00000e+00, 0.00000e+00, 0.00000e+00, 1.60000e+01, 4.08500e+03,\n",
       "        1.76000e+04, 6.44220e+04, 2.55424e+05, 1.69658e+05, 2.94400e+03]),\n",
       " array([0.        , 0.52380461, 1.04760922, 1.57141383, 2.09521844,\n",
       "        2.61902305, 3.14282766, 3.66663227, 4.19043688, 4.71424149,\n",
       "        5.2380461 ]),\n",
       " <BarContainer object of 10 artists>)"
      ]
     },
     "execution_count": 104,
     "metadata": {},
     "output_type": "execute_result"
    },
    {
     "data": {
      "image/png": "[encoded data removed]",
      "text/plain": [
       "<Figure size 432x288 with 1 Axes>"
      ]
     },
     "metadata": {
      "needs_background": "light"
     },
     "output_type": "display_data"
    }
   ],
   "source": [
    "plt.hist(np.log10(df_filt['sellingprice']))"
   ]
  },
  {
   "cell_type": "markdown",
   "metadata": {},
   "source": [
    "## Chi Square Test"
   ]
  },
  {
   "cell_type": "markdown",
   "metadata": {},
   "source": [
    "Melihat hubungan antar kategori.\n",
    "\n",
    "Inspect relationship between car company and its selled car body type.\n",
    "- H0: No relationship between car company (make) and car body type\n",
    "- H1: Exists a relationship between car company (make) and car body type"
   ]
  },
  {
   "cell_type": "code",
   "execution_count": 107,
   "metadata": {},
   "outputs": [],
   "source": [
    "df_pivot=df_filt.groupby(['make','body']).count()[['model','sellingprice']].reset_index()"
   ]
  },
  {
   "cell_type": "code",
   "execution_count": 108,
   "metadata": {},
   "outputs": [
    {
     "data": {
      "text/html": [
       "<div>\n",
       "<style scoped>\n",
       "    .dataframe tbody tr th:only-of-type {\n",
       "        vertical-align: middle;\n",
       "    }\n",
       "\n",
       "    .dataframe tbody tr th {\n",
       "        vertical-align: top;\n",
       "    }\n",
       "\n",
       "    .dataframe thead th {\n",
       "        text-align: right;\n",
       "    }\n",
       "</style>\n",
       "<table border=\"1\" class=\"dataframe\">\n",
       "  <thead>\n",
       "    <tr style=\"text-align: right;\">\n",
       "      <th></th>\n",
       "      <th>make</th>\n",
       "      <th>body</th>\n",
       "      <th>model</th>\n",
       "      <th>sellingprice</th>\n",
       "    </tr>\n",
       "  </thead>\n",
       "  <tbody>\n",
       "    <tr>\n",
       "      <th>0</th>\n",
       "      <td>Acura</td>\n",
       "      <td>COUPE</td>\n",
       "      <td>97</td>\n",
       "      <td>97</td>\n",
       "    </tr>\n",
       "    <tr>\n",
       "      <th>1</th>\n",
       "      <td>Acura</td>\n",
       "      <td>HATCHBACK</td>\n",
       "      <td>218</td>\n",
       "      <td>218</td>\n",
       "    </tr>\n",
       "    <tr>\n",
       "      <th>2</th>\n",
       "      <td>Acura</td>\n",
       "      <td>SEDAN</td>\n",
       "      <td>3545</td>\n",
       "      <td>3545</td>\n",
       "    </tr>\n",
       "    <tr>\n",
       "      <th>3</th>\n",
       "      <td>Acura</td>\n",
       "      <td>SUV</td>\n",
       "      <td>2005</td>\n",
       "      <td>2005</td>\n",
       "    </tr>\n",
       "    <tr>\n",
       "      <th>4</th>\n",
       "      <td>Aston Martin</td>\n",
       "      <td>CONVERTIBLE</td>\n",
       "      <td>11</td>\n",
       "      <td>11</td>\n",
       "    </tr>\n",
       "  </tbody>\n",
       "</table>\n",
       "</div>"
      ],
      "text/plain": [
       "           make         body  model  sellingprice\n",
       "0         Acura        COUPE     97            97\n",
       "1         Acura    HATCHBACK    218           218\n",
       "2         Acura        SEDAN   3545          3545\n",
       "3         Acura          SUV   2005          2005\n",
       "4  Aston Martin  CONVERTIBLE     11            11"
      ]
     },
     "execution_count": 108,
     "metadata": {},
     "output_type": "execute_result"
    }
   ],
   "source": [
    "df_pivot.head(5)"
   ]
  },
  {
   "cell_type": "code",
   "execution_count": 109,
   "metadata": {},
   "outputs": [],
   "source": [
    "df_pivot = df_pivot.pivot(index=\"make\",columns=\"body\", values='model').fillna(0)"
   ]
  },
  {
   "cell_type": "code",
   "execution_count": 111,
   "metadata": {},
   "outputs": [
    {
     "data": {
      "text/html": [
       "<div>\n",
       "<style scoped>\n",
       "    .dataframe tbody tr th:only-of-type {\n",
       "        vertical-align: middle;\n",
       "    }\n",
       "\n",
       "    .dataframe tbody tr th {\n",
       "        vertical-align: top;\n",
       "    }\n",
       "\n",
       "    .dataframe thead th {\n",
       "        text-align: right;\n",
       "    }\n",
       "</style>\n",
       "<table border=\"1\" class=\"dataframe\">\n",
       "  <thead>\n",
       "    <tr style=\"text-align: right;\">\n",
       "      <th>body</th>\n",
       "      <th>CONVERTIBLE</th>\n",
       "      <th>COUPE</th>\n",
       "      <th>CREW CAB</th>\n",
       "      <th>G SEDAN</th>\n",
       "      <th>HATCHBACK</th>\n",
       "      <th>MINIVAN</th>\n",
       "      <th>SEDAN</th>\n",
       "      <th>SUPERCREW</th>\n",
       "      <th>SUV</th>\n",
       "      <th>WAGON</th>\n",
       "    </tr>\n",
       "    <tr>\n",
       "      <th>make</th>\n",
       "      <th></th>\n",
       "      <th></th>\n",
       "      <th></th>\n",
       "      <th></th>\n",
       "      <th></th>\n",
       "      <th></th>\n",
       "      <th></th>\n",
       "      <th></th>\n",
       "      <th></th>\n",
       "      <th></th>\n",
       "    </tr>\n",
       "  </thead>\n",
       "  <tbody>\n",
       "    <tr>\n",
       "      <th>Acura</th>\n",
       "      <td>0.0</td>\n",
       "      <td>97.0</td>\n",
       "      <td>0.0</td>\n",
       "      <td>0.0</td>\n",
       "      <td>218.0</td>\n",
       "      <td>0.0</td>\n",
       "      <td>3545.0</td>\n",
       "      <td>0.0</td>\n",
       "      <td>2005.0</td>\n",
       "      <td>0.0</td>\n",
       "    </tr>\n",
       "    <tr>\n",
       "      <th>Aston Martin</th>\n",
       "      <td>11.0</td>\n",
       "      <td>12.0</td>\n",
       "      <td>0.0</td>\n",
       "      <td>0.0</td>\n",
       "      <td>0.0</td>\n",
       "      <td>0.0</td>\n",
       "      <td>2.0</td>\n",
       "      <td>0.0</td>\n",
       "      <td>0.0</td>\n",
       "      <td>0.0</td>\n",
       "    </tr>\n",
       "    <tr>\n",
       "      <th>Audi</th>\n",
       "      <td>420.0</td>\n",
       "      <td>477.0</td>\n",
       "      <td>0.0</td>\n",
       "      <td>0.0</td>\n",
       "      <td>22.0</td>\n",
       "      <td>0.0</td>\n",
       "      <td>3498.0</td>\n",
       "      <td>0.0</td>\n",
       "      <td>1030.0</td>\n",
       "      <td>410.0</td>\n",
       "    </tr>\n",
       "    <tr>\n",
       "      <th>BMW</th>\n",
       "      <td>2199.0</td>\n",
       "      <td>1984.0</td>\n",
       "      <td>0.0</td>\n",
       "      <td>0.0</td>\n",
       "      <td>283.0</td>\n",
       "      <td>0.0</td>\n",
       "      <td>11616.0</td>\n",
       "      <td>0.0</td>\n",
       "      <td>4379.0</td>\n",
       "      <td>172.0</td>\n",
       "    </tr>\n",
       "    <tr>\n",
       "      <th>Bentley</th>\n",
       "      <td>34.0</td>\n",
       "      <td>47.0</td>\n",
       "      <td>0.0</td>\n",
       "      <td>0.0</td>\n",
       "      <td>0.0</td>\n",
       "      <td>0.0</td>\n",
       "      <td>35.0</td>\n",
       "      <td>0.0</td>\n",
       "      <td>0.0</td>\n",
       "      <td>0.0</td>\n",
       "    </tr>\n",
       "  </tbody>\n",
       "</table>\n",
       "</div>"
      ],
      "text/plain": [
       "body          CONVERTIBLE   COUPE  CREW CAB  G SEDAN  HATCHBACK  MINIVAN  \\\n",
       "make                                                                       \n",
       "Acura                 0.0    97.0       0.0      0.0      218.0      0.0   \n",
       "Aston Martin         11.0    12.0       0.0      0.0        0.0      0.0   \n",
       "Audi                420.0   477.0       0.0      0.0       22.0      0.0   \n",
       "BMW                2199.0  1984.0       0.0      0.0      283.0      0.0   \n",
       "Bentley              34.0    47.0       0.0      0.0        0.0      0.0   \n",
       "\n",
       "body            SEDAN  SUPERCREW     SUV  WAGON  \n",
       "make                                             \n",
       "Acura          3545.0        0.0  2005.0    0.0  \n",
       "Aston Martin      2.0        0.0     0.0    0.0  \n",
       "Audi           3498.0        0.0  1030.0  410.0  \n",
       "BMW           11616.0        0.0  4379.0  172.0  \n",
       "Bentley          35.0        0.0     0.0    0.0  "
      ]
     },
     "execution_count": 111,
     "metadata": {},
     "output_type": "execute_result"
    }
   ],
   "source": [
    "df_pivot.head(5)"
   ]
  },
  {
   "cell_type": "code",
   "execution_count": 112,
   "metadata": {},
   "outputs": [
    {
     "name": "stdout",
     "output_type": "stream",
     "text": [
      "Observed chi2: 757431.24\n",
      "p-value: 0.0000\n"
     ]
    }
   ],
   "source": [
    "chisq, pvalue, df, expected = stats.chi2_contingency(df_pivot)\n",
    "print(f'Observed chi2: {chisq:.2f}')\n",
    "print(f'p-value: {pvalue:.4f}')"
   ]
  },
  {
   "cell_type": "markdown",
   "metadata": {},
   "source": [
    "Ada hubungan antara maker dengan model mobil yang mereka buat"
   ]
  },
  {
   "cell_type": "code",
   "execution_count": 113,
   "metadata": {},
   "outputs": [
    {
     "data": {
      "text/html": [
       "<div>\n",
       "<style scoped>\n",
       "    .dataframe tbody tr th:only-of-type {\n",
       "        vertical-align: middle;\n",
       "    }\n",
       "\n",
       "    .dataframe tbody tr th {\n",
       "        vertical-align: top;\n",
       "    }\n",
       "\n",
       "    .dataframe thead th {\n",
       "        text-align: right;\n",
       "    }\n",
       "</style>\n",
       "<table border=\"1\" class=\"dataframe\">\n",
       "  <thead>\n",
       "    <tr style=\"text-align: right;\">\n",
       "      <th></th>\n",
       "      <th>transmission</th>\n",
       "      <th>body</th>\n",
       "      <th>model</th>\n",
       "      <th>sellingprice</th>\n",
       "    </tr>\n",
       "  </thead>\n",
       "  <tbody>\n",
       "    <tr>\n",
       "      <th>0</th>\n",
       "      <td>automatic</td>\n",
       "      <td>CONVERTIBLE</td>\n",
       "      <td>8442</td>\n",
       "      <td>8442</td>\n",
       "    </tr>\n",
       "    <tr>\n",
       "      <th>1</th>\n",
       "      <td>automatic</td>\n",
       "      <td>COUPE</td>\n",
       "      <td>13247</td>\n",
       "      <td>13247</td>\n",
       "    </tr>\n",
       "    <tr>\n",
       "      <th>2</th>\n",
       "      <td>automatic</td>\n",
       "      <td>CREW CAB</td>\n",
       "      <td>14507</td>\n",
       "      <td>14507</td>\n",
       "    </tr>\n",
       "    <tr>\n",
       "      <th>3</th>\n",
       "      <td>automatic</td>\n",
       "      <td>G SEDAN</td>\n",
       "      <td>6902</td>\n",
       "      <td>6902</td>\n",
       "    </tr>\n",
       "    <tr>\n",
       "      <th>4</th>\n",
       "      <td>automatic</td>\n",
       "      <td>HATCHBACK</td>\n",
       "      <td>20974</td>\n",
       "      <td>20974</td>\n",
       "    </tr>\n",
       "    <tr>\n",
       "      <th>5</th>\n",
       "      <td>automatic</td>\n",
       "      <td>MINIVAN</td>\n",
       "      <td>22445</td>\n",
       "      <td>22445</td>\n",
       "    </tr>\n",
       "    <tr>\n",
       "      <th>6</th>\n",
       "      <td>automatic</td>\n",
       "      <td>SEDAN</td>\n",
       "      <td>209940</td>\n",
       "      <td>210032</td>\n",
       "    </tr>\n",
       "    <tr>\n",
       "      <th>7</th>\n",
       "      <td>automatic</td>\n",
       "      <td>SUPERCREW</td>\n",
       "      <td>7707</td>\n",
       "      <td>7707</td>\n",
       "    </tr>\n",
       "    <tr>\n",
       "      <th>8</th>\n",
       "      <td>automatic</td>\n",
       "      <td>SUV</td>\n",
       "      <td>121962</td>\n",
       "      <td>121962</td>\n",
       "    </tr>\n",
       "    <tr>\n",
       "      <th>9</th>\n",
       "      <td>automatic</td>\n",
       "      <td>WAGON</td>\n",
       "      <td>13743</td>\n",
       "      <td>13743</td>\n",
       "    </tr>\n",
       "    <tr>\n",
       "      <th>10</th>\n",
       "      <td>manual</td>\n",
       "      <td>CONVERTIBLE</td>\n",
       "      <td>1120</td>\n",
       "      <td>1120</td>\n",
       "    </tr>\n",
       "    <tr>\n",
       "      <th>11</th>\n",
       "      <td>manual</td>\n",
       "      <td>COUPE</td>\n",
       "      <td>3142</td>\n",
       "      <td>3142</td>\n",
       "    </tr>\n",
       "    <tr>\n",
       "      <th>12</th>\n",
       "      <td>manual</td>\n",
       "      <td>CREW CAB</td>\n",
       "      <td>107</td>\n",
       "      <td>107</td>\n",
       "    </tr>\n",
       "    <tr>\n",
       "      <th>13</th>\n",
       "      <td>manual</td>\n",
       "      <td>G SEDAN</td>\n",
       "      <td>42</td>\n",
       "      <td>42</td>\n",
       "    </tr>\n",
       "    <tr>\n",
       "      <th>14</th>\n",
       "      <td>manual</td>\n",
       "      <td>HATCHBACK</td>\n",
       "      <td>3268</td>\n",
       "      <td>3268</td>\n",
       "    </tr>\n",
       "    <tr>\n",
       "      <th>15</th>\n",
       "      <td>manual</td>\n",
       "      <td>MINIVAN</td>\n",
       "      <td>11</td>\n",
       "      <td>11</td>\n",
       "    </tr>\n",
       "    <tr>\n",
       "      <th>16</th>\n",
       "      <td>manual</td>\n",
       "      <td>SEDAN</td>\n",
       "      <td>5350</td>\n",
       "      <td>5350</td>\n",
       "    </tr>\n",
       "    <tr>\n",
       "      <th>17</th>\n",
       "      <td>manual</td>\n",
       "      <td>SUPERCREW</td>\n",
       "      <td>1</td>\n",
       "      <td>1</td>\n",
       "    </tr>\n",
       "    <tr>\n",
       "      <th>18</th>\n",
       "      <td>manual</td>\n",
       "      <td>SUV</td>\n",
       "      <td>1797</td>\n",
       "      <td>1797</td>\n",
       "    </tr>\n",
       "    <tr>\n",
       "      <th>19</th>\n",
       "      <td>manual</td>\n",
       "      <td>WAGON</td>\n",
       "      <td>872</td>\n",
       "      <td>872</td>\n",
       "    </tr>\n",
       "  </tbody>\n",
       "</table>\n",
       "</div>"
      ],
      "text/plain": [
       "   transmission         body   model  sellingprice\n",
       "0     automatic  CONVERTIBLE    8442          8442\n",
       "1     automatic        COUPE   13247         13247\n",
       "2     automatic     CREW CAB   14507         14507\n",
       "3     automatic      G SEDAN    6902          6902\n",
       "4     automatic    HATCHBACK   20974         20974\n",
       "5     automatic      MINIVAN   22445         22445\n",
       "6     automatic        SEDAN  209940        210032\n",
       "7     automatic    SUPERCREW    7707          7707\n",
       "8     automatic          SUV  121962        121962\n",
       "9     automatic        WAGON   13743         13743\n",
       "10       manual  CONVERTIBLE    1120          1120\n",
       "11       manual        COUPE    3142          3142\n",
       "12       manual     CREW CAB     107           107\n",
       "13       manual      G SEDAN      42            42\n",
       "14       manual    HATCHBACK    3268          3268\n",
       "15       manual      MINIVAN      11            11\n",
       "16       manual        SEDAN    5350          5350\n",
       "17       manual    SUPERCREW       1             1\n",
       "18       manual          SUV    1797          1797\n",
       "19       manual        WAGON     872           872"
      ]
     },
     "execution_count": 113,
     "metadata": {},
     "output_type": "execute_result"
    }
   ],
   "source": [
    "df_pivot=df_filt.groupby(['transmission','body']).count()[['model','sellingprice']].reset_index()\n",
    "df_pivot"
   ]
  },
  {
   "cell_type": "code",
   "execution_count": 114,
   "metadata": {},
   "outputs": [
    {
     "data": {
      "text/html": [
       "<div>\n",
       "<style scoped>\n",
       "    .dataframe tbody tr th:only-of-type {\n",
       "        vertical-align: middle;\n",
       "    }\n",
       "\n",
       "    .dataframe tbody tr th {\n",
       "        vertical-align: top;\n",
       "    }\n",
       "\n",
       "    .dataframe thead th {\n",
       "        text-align: right;\n",
       "    }\n",
       "</style>\n",
       "<table border=\"1\" class=\"dataframe\">\n",
       "  <thead>\n",
       "    <tr style=\"text-align: right;\">\n",
       "      <th>body</th>\n",
       "      <th>CONVERTIBLE</th>\n",
       "      <th>COUPE</th>\n",
       "      <th>CREW CAB</th>\n",
       "      <th>G SEDAN</th>\n",
       "      <th>HATCHBACK</th>\n",
       "      <th>MINIVAN</th>\n",
       "      <th>SEDAN</th>\n",
       "      <th>SUPERCREW</th>\n",
       "      <th>SUV</th>\n",
       "      <th>WAGON</th>\n",
       "    </tr>\n",
       "    <tr>\n",
       "      <th>transmission</th>\n",
       "      <th></th>\n",
       "      <th></th>\n",
       "      <th></th>\n",
       "      <th></th>\n",
       "      <th></th>\n",
       "      <th></th>\n",
       "      <th></th>\n",
       "      <th></th>\n",
       "      <th></th>\n",
       "      <th></th>\n",
       "    </tr>\n",
       "  </thead>\n",
       "  <tbody>\n",
       "    <tr>\n",
       "      <th>automatic</th>\n",
       "      <td>8442</td>\n",
       "      <td>13247</td>\n",
       "      <td>14507</td>\n",
       "      <td>6902</td>\n",
       "      <td>20974</td>\n",
       "      <td>22445</td>\n",
       "      <td>209940</td>\n",
       "      <td>7707</td>\n",
       "      <td>121962</td>\n",
       "      <td>13743</td>\n",
       "    </tr>\n",
       "    <tr>\n",
       "      <th>manual</th>\n",
       "      <td>1120</td>\n",
       "      <td>3142</td>\n",
       "      <td>107</td>\n",
       "      <td>42</td>\n",
       "      <td>3268</td>\n",
       "      <td>11</td>\n",
       "      <td>5350</td>\n",
       "      <td>1</td>\n",
       "      <td>1797</td>\n",
       "      <td>872</td>\n",
       "    </tr>\n",
       "  </tbody>\n",
       "</table>\n",
       "</div>"
      ],
      "text/plain": [
       "body          CONVERTIBLE  COUPE  CREW CAB  G SEDAN  HATCHBACK  MINIVAN  \\\n",
       "transmission                                                              \n",
       "automatic            8442  13247     14507     6902      20974    22445   \n",
       "manual               1120   3142       107       42       3268       11   \n",
       "\n",
       "body           SEDAN  SUPERCREW     SUV  WAGON  \n",
       "transmission                                    \n",
       "automatic     209940       7707  121962  13743  \n",
       "manual          5350          1    1797    872  "
      ]
     },
     "execution_count": 114,
     "metadata": {},
     "output_type": "execute_result"
    }
   ],
   "source": [
    "df_pivot=df_filt.groupby(['transmission','body']).count()[['model','sellingprice']].reset_index()\n",
    "df_pivot = df_pivot.pivot(index=\"transmission\",columns=\"body\", values='model').fillna(0)\n",
    "df_pivot.head(5)"
   ]
  },
  {
   "cell_type": "code",
   "execution_count": 115,
   "metadata": {},
   "outputs": [
    {
     "name": "stdout",
     "output_type": "stream",
     "text": [
      "Observed chi2: 25363.86\n",
      "p-value: 0.0000\n"
     ]
    }
   ],
   "source": [
    "chisq, pvalue, df, expected = stats.chi2_contingency(df_pivot)\n",
    "print(f'Observed chi2: {chisq:.2f}')\n",
    "print(f'p-value: {pvalue:.4f}')"
   ]
  },
  {
   "cell_type": "code",
   "execution_count": 116,
   "metadata": {},
   "outputs": [],
   "source": [
    "cols = [['transmission','body'],['make','body'],['make','state']]\n",
    "p_vals=[]\n",
    "\n",
    "for col in cols:\n",
    "    df_pivot=df_filt.groupby(col).count()[['model','sellingprice']].reset_index()\n",
    "    df_pivot = df_pivot.pivot(index=col[0],columns=col[1], values='model').fillna(0)\n",
    "    chisq, pvalue, df, expected = stats.chi2_contingency(df_pivot)\n",
    "    p_vals.append(pvalue)"
   ]
  },
  {
   "cell_type": "code",
   "execution_count": 117,
   "metadata": {},
   "outputs": [
    {
     "data": {
      "text/plain": [
       "[0.0, 0.0, 0.0]"
      ]
     },
     "execution_count": 117,
     "metadata": {},
     "output_type": "execute_result"
    }
   ],
   "source": [
    "p_vals"
   ]
  },
  {
   "cell_type": "markdown",
   "metadata": {},
   "source": [
    "## Two sample Test"
   ]
  },
  {
   "cell_type": "markdown",
   "metadata": {},
   "source": [
    "Whether car company effect selling price\n",
    "\n",
    "Particularly, Chevrolet and Nissan\n",
    "$$ H_0: \\mu_{Chev} = \\mu_{Nis} $$\n",
    "$$ H_1: \\mu_{Chev} \\neq \\mu_{Nis} $$"
   ]
  },
  {
   "cell_type": "code",
   "execution_count": 118,
   "metadata": {},
   "outputs": [],
   "source": [
    "df_make_smy=df_filt.groupby('make').agg({'sellingprice':['count','mean']}).reset_index()\n",
    "df_make_smy.columns = df_make_smy.columns.droplevel()"
   ]
  },
  {
   "cell_type": "code",
   "execution_count": 119,
   "metadata": {},
   "outputs": [
    {
     "data": {
      "text/html": [
       "<div>\n",
       "<style scoped>\n",
       "    .dataframe tbody tr th:only-of-type {\n",
       "        vertical-align: middle;\n",
       "    }\n",
       "\n",
       "    .dataframe tbody tr th {\n",
       "        vertical-align: top;\n",
       "    }\n",
       "\n",
       "    .dataframe thead th {\n",
       "        text-align: right;\n",
       "    }\n",
       "</style>\n",
       "<table border=\"1\" class=\"dataframe\">\n",
       "  <thead>\n",
       "    <tr style=\"text-align: right;\">\n",
       "      <th></th>\n",
       "      <th></th>\n",
       "      <th>count</th>\n",
       "      <th>mean</th>\n",
       "    </tr>\n",
       "  </thead>\n",
       "  <tbody>\n",
       "    <tr>\n",
       "      <th>14</th>\n",
       "      <td>Ford</td>\n",
       "      <td>81291</td>\n",
       "      <td>14728.863687</td>\n",
       "    </tr>\n",
       "    <tr>\n",
       "      <th>7</th>\n",
       "      <td>Chevrolet</td>\n",
       "      <td>54298</td>\n",
       "      <td>12067.943331</td>\n",
       "    </tr>\n",
       "    <tr>\n",
       "      <th>36</th>\n",
       "      <td>Nissan</td>\n",
       "      <td>53272</td>\n",
       "      <td>11756.020987</td>\n",
       "    </tr>\n",
       "    <tr>\n",
       "      <th>49</th>\n",
       "      <td>Toyota</td>\n",
       "      <td>37406</td>\n",
       "      <td>11681.540608</td>\n",
       "    </tr>\n",
       "    <tr>\n",
       "      <th>10</th>\n",
       "      <td>Dodge</td>\n",
       "      <td>27278</td>\n",
       "      <td>11407.521959</td>\n",
       "    </tr>\n",
       "  </tbody>\n",
       "</table>\n",
       "</div>"
      ],
      "text/plain": [
       "               count          mean\n",
       "14       Ford  81291  14728.863687\n",
       "7   Chevrolet  54298  12067.943331\n",
       "36     Nissan  53272  11756.020987\n",
       "49     Toyota  37406  11681.540608\n",
       "10      Dodge  27278  11407.521959"
      ]
     },
     "execution_count": 119,
     "metadata": {},
     "output_type": "execute_result"
    }
   ],
   "source": [
    "df_make_smy.sort_values('count',ascending=False).head(5)"
   ]
  },
  {
   "cell_type": "code",
   "execution_count": 120,
   "metadata": {},
   "outputs": [],
   "source": [
    "df_chev = df_filt[df_filt['make']=='Chevrolet']\n",
    "df_niss = df_filt[df_filt['make']=='Nissan']"
   ]
  },
  {
   "cell_type": "code",
   "execution_count": 121,
   "metadata": {},
   "outputs": [
    {
     "name": "stderr",
     "output_type": "stream",
     "text": [
      "C:\\Users\\madin\\anaconda3\\lib\\site-packages\\seaborn\\distributions.py:2551: FutureWarning: `distplot` is a deprecated function and will be removed in a future version. Please adapt your code to use either `displot` (a figure-level function with similar flexibility) or `histplot` (an axes-level function for histograms).\n",
      "  warnings.warn(msg, FutureWarning)\n"
     ]
    },
    {
     "data": {
      "text/plain": [
       "<AxesSubplot:xlabel='sellingprice', ylabel='Density'>"
      ]
     },
     "execution_count": 121,
     "metadata": {},
     "output_type": "execute_result"
    },
    {
     "data": {
      "image/png": "[encoded data removed]",
      "text/plain": [
       "<Figure size 432x288 with 1 Axes>"
      ]
     },
     "metadata": {
      "needs_background": "light"
     },
     "output_type": "display_data"
    }
   ],
   "source": [
    "sns.distplot(df_chev['sellingprice'])"
   ]
  },
  {
   "cell_type": "code",
   "execution_count": 122,
   "metadata": {},
   "outputs": [
    {
     "name": "stderr",
     "output_type": "stream",
     "text": [
      "C:\\Users\\madin\\anaconda3\\lib\\site-packages\\seaborn\\distributions.py:2551: FutureWarning: `distplot` is a deprecated function and will be removed in a future version. Please adapt your code to use either `displot` (a figure-level function with similar flexibility) or `histplot` (an axes-level function for histograms).\n",
      "  warnings.warn(msg, FutureWarning)\n"
     ]
    },
    {
     "data": {
      "text/plain": [
       "<AxesSubplot:xlabel='sellingprice', ylabel='Density'>"
      ]
     },
     "execution_count": 122,
     "metadata": {},
     "output_type": "execute_result"
    },
    {
     "data": {
      "image/png": "[encoded data removed]",
      "text/plain": [
       "<Figure size 432x288 with 1 Axes>"
      ]
     },
     "metadata": {
      "needs_background": "light"
     },
     "output_type": "display_data"
    }
   ],
   "source": [
    "sns.distplot(df_niss['sellingprice'])"
   ]
  },
  {
   "cell_type": "code",
   "execution_count": 123,
   "metadata": {},
   "outputs": [
    {
     "name": "stdout",
     "output_type": "stream",
     "text": [
      "Chevrolet sample mean:12067.943331246086\n",
      "Chevrolet sample std:9031.041723068338\n",
      "Chevrolet Kurtosis:4.295113167965582\n",
      "Nissan sample mean:11756.02098663463\n",
      "t-statistic:-6.777551844101266\n",
      "p-value:0.000000\n"
     ]
    },
    {
     "data": {
      "image/png": "[encoded data removed]",
      "text/plain": [
       "<Figure size 432x288 with 1 Axes>"
      ]
     },
     "metadata": {
      "needs_background": "light"
     },
     "output_type": "display_data"
    }
   ],
   "source": [
    "np.random.seed(123)\n",
    "nonMath =df_chev['sellingprice']\n",
    "math = df_niss['sellingprice']\n",
    "print(\"Chevrolet sample mean:\" + str(nonMath.mean()))\n",
    "print(\"Chevrolet sample std:\" + str(nonMath.std()))\n",
    "print(\"Chevrolet Kurtosis:\" + str(nonMath.kurtosis()))\n",
    "print(\"Nissan sample mean:\" + str(math.mean()))\n",
    "\n",
    "# Independent T-Test\n",
    "t,p = stats.ttest_ind(math, nonMath,equal_var=False)\n",
    "# ttest_ind is 2-tailed, so half the resulting p-value to get a 1-tailed p-value\n",
    "p1 = '%f' % (p/2)\n",
    "\n",
    "#2-tailed\n",
    "print(\"t-statistic:\" + str(t))\n",
    "print(\"p-value:\" + str(p1))\n",
    "\n",
    "pop = np.random.normal(nonMath.mean(), nonMath.std(), 100000)\n",
    "# calculate a 90% confidence interval. 10% of the probability is outside this, 5% in each tail\n",
    "ci = stats.norm.interval(0.90, nonMath.mean(), nonMath.std())\n",
    "plt.hist(pop, bins=100)\n",
    "# show the hypothesized population mean\n",
    "plt.axvline(pop.mean(), color='yellow', linestyle='dashed', linewidth=2)\n",
    "# show the right-tail confidence interval threshold - 5% of propbability is under the curve to the right of this.\n",
    "plt.axvline(ci[1], color='red', linestyle='dashed', linewidth=2)\n",
    "# show the right-tail confidence interval threshold - 5% of propbability is under the curve to the right of this.\n",
    "plt.axvline(ci[0], color='red', linestyle='dashed', linewidth=2)\n",
    "# show the t-statistic - the p-value is the area under the curve to the right of this\n",
    "plt.axvline(pop.mean() +  t*pop.std(), color='magenta', linestyle='dashed', linewidth=2)\n",
    "plt.show()"
   ]
  },
  {
   "cell_type": "code",
   "execution_count": null,
   "metadata": {},
   "outputs": [],
   "source": []
  }
 ],
 "metadata": {
  "kernelspec": {
   "display_name": "Python 3",
   "language": "python",
   "name": "python3"
  },
  "language_info": {
   "codemirror_mode": {
    "name": "ipython",
    "version": 3
   },
   "file_extension": ".py",
   "mimetype": "text/x-python",
   "name": "python",
   "nbconvert_exporter": "python",
   "pygments_lexer": "ipython3",
   "version": "3.8.5"
  }
 },
 "nbformat": 4,
 "nbformat_minor": 4
}
